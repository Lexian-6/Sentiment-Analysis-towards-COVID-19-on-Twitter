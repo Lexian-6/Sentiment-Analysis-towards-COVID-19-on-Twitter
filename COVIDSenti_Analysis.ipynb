{
  "nbformat": 4,
  "nbformat_minor": 0,
  "metadata": {
    "colab": {
      "provenance": [],
      "authorship_tag": "ABX9TyPFGh77a0H8HSwrDn4CfAIb",
      "include_colab_link": true
    },
    "kernelspec": {
      "name": "python3",
      "display_name": "Python 3"
    },
    "language_info": {
      "name": "python"
    }
  },
  "cells": [
    {
      "cell_type": "markdown",
      "metadata": {
        "id": "view-in-github",
        "colab_type": "text"
      },
      "source": [
        "<a href=\"https://colab.research.google.com/github/Lexian-6/Sentiment-Analysis-towards-COVID-19-on-Twitter/blob/main/COVIDSenti_Analysis.ipynb\" target=\"_parent\"><img src=\"https://colab.research.google.com/assets/colab-badge.svg\" alt=\"Open In Colab\"/></a>"
      ]
    },
    {
      "cell_type": "markdown",
      "source": [
        "## **Project Title: Sentiment Analysis towards COVID-19 on Twitter**\n",
        "## ***Area of Research: Natural Language Processing (NLP)***\n",
        "\n",
        "\n",
        "## Group name: Pluviophile\n",
        "### Submitted on: (date here when we submit)\n",
        "\n",
        "| **Name**           | **Email**                          | **Student Id** |\n",
        "|--------------------|------------------------------------|----------------|\n",
        "| Junle Zhou         | junle.zhou@student.unsw.edu.au     | z5431301       |\n",
        "| name               | email                              | ID             |\n",
        "| name               | email                              | ID             |\n",
        "| name               | email                              | ID             |\n",
        "| name               | email                              | ID             |\n"
      ],
      "metadata": {
        "id": "uJxLH6VZON_C"
      }
    },
    {
      "cell_type": "markdown",
      "source": [
        "# **Table of Contents**\n",
        "1. [Introduction, Motivation and Problem Statement](#introduction)\n",
        "2. [Goal of Our Project](#goal)\n",
        "3. [Data Source: COVIDSenti Dataset](#data-source)\n",
        "4. [Exploratory Data Analysis](#data-analysis)\n",
        "5. (or maybe 5, 6, 7 since we have different models) [Sentiment Analysis Models](#models)\n",
        "6. [Experimental Setup & Results](#results)\n",
        "7. [Model Analysis & Interpretation](#analysis--interpretation)\n",
        "8. [Fine-Tuning and Hyperparameter Tuning](#fine-tuning)\n",
        "9. [Exploring Different Datasets and Models (if we have time)](#different-datasets)\n",
        "10. [Conclusion & Future Work](#conclusion)"
      ],
      "metadata": {
        "id": "-StEoWusND1Z"
      }
    },
    {
      "cell_type": "markdown",
      "source": [
        "<a name=\"introduction\"></a>\n",
        "## 1. Introduction, Motivation and Problem Statement\n",
        "\n",
        "😷The COVID-19 pandemic has had an unprecedented impact on global health, the economy, and society as a whole. As governments worldwide implemented measures to control the spread of the virus, such as lockdowns and social distancing, people turned to social media platforms to express their opinions, concerns, and experiences during this crisis.\n",
        "\n",
        "📘Twitter, in particular, has become a crucial platform for public discourse during the pandemic. With millions of tweets posted daily, Twitter provides a vast amount of user-generated content that can be analyzed to gain insights into public sentiment. Understanding public sentiment is essential for policymakers, public health officials, and researchers to make informed decisions and develop effective strategies to address the challenges posed by the pandemic.\n",
        "\n",
        "🪧Sentiment analysis, a subfield of natural language processing, offers a powerful tool to automatically classify the sentiment expressed in text data. By applying sentiment analysis techniques to COVID-19 related tweets, we can gain a deeper understanding of public opinion trends, identify prevalent concerns, and track sentiment shifts over time.\n",
        "\n",
        "In this project, we will be using the COVIDSenti dataset, which contains tweets related to the COVID-19 pandemic collected from March to April 2020. We will preprocess the text data, perform exploratory analysis, and develop sentiment classification models using deep learning techniques. By comparing the performance of different models and analyzing their behavior, we aim to contribute to a better understanding of public sentiment during the COVID-19 pandemic and showcase the potential of sentiment analysis in crisis situations."
      ],
      "metadata": {
        "id": "-Qj5aSExRUWp"
      }
    },
    {
      "cell_type": "markdown",
      "source": [
        "<a name=\"goal\"></a>\n",
        "## 2. 🚩Goal of Our Project\n",
        "\n",
        "The main goal of this project is to develop and compare deep learning models for sentiment analysis of COVID-19 related tweets. By achieving this goal, we aim to contribute to a better understanding of public sentiment during the pandemic and demonstrate the effectiveness of sentiment analysis techniques in crisis situations.\n",
        "\n",
        "To achieve this goal, we have set the following objectives:\n",
        "\n",
        "1. Data Collection and Preprocessing:\n",
        "   - Collect a large dataset of COVID-19 related tweets using the Twitter API\n",
        "   - Preprocess the text data by cleaning, tokenizing, and normalizing the tweets\n",
        "   - Explore and visualize the dataset to gain insights into its characteristics and distribution\n",
        "\n",
        "2. Sentiment Analysis Model Development:\n",
        "   - Implement and train an LSTM model for sentiment classification\n",
        "   - Fine-tune a pre-trained BERT model for sentiment classification\n",
        "   - Experiment with different hyperparameters and architectures to optimize model performance\n",
        "\n",
        "3. Model Evaluation and Comparison:\n",
        "   - Evaluate the performance of the LSTM and BERT models using appropriate metrics (accuracy, precision, recall, F1-score)\n",
        "   - Compare the results of the two models and analyze their strengths and weaknesses\n",
        "   - Interpret the models' behavior and identify important features for sentiment classification\n",
        "\n",
        "4. Insights and Future Directions:\n",
        "   - Discuss the implications of our findings for understanding public sentiment during the COVID-19 pandemic\n",
        "   - Identify limitations of our approach and suggest potential improvements\n",
        "   - Propose future research directions, such as incorporating more advanced models or expanding the analysis to other datasets\n",
        "\n",
        "By completing these objectives, we expect to develop accurate and interpretable sentiment analysis models that can be used to track public sentiment trends during the COVID-19 pandemic. Our project will contribute to the growing body of research on sentiment analysis in crisis situations and provide insights that can inform decision-making processes related to the pandemic."
      ],
      "metadata": {
        "id": "K4yAuhrmWUT-"
      }
    },
    {
      "cell_type": "markdown",
      "source": [
        "<a name=\"data-source\"></a>\n",
        "## 3. Data Source: COVIDSenti Dataset\n",
        "\n",
        "For this project, we used the COVIDSenti dataset, which contains tweets related to the COVID-19 pandemic. The dataset was collected by the authors of the paper \"COVIDSenti: A Large-Scale Benchmark Twitter Data Set for COVID-19 Sentiment Analysis\" (Naseem et al., 2021) and is publicly available on GitHub.\n",
        "\n",
        "### 3.1 Data Collection\n",
        "\n",
        "The COVIDSenti dataset was collected using the Twitter API from March 2020 to April 2020, during the early stages of the COVID-19 pandemic. The authors used a set of COVID-19 related keywords and hashtags to filter the tweets, such as \"coronavirus\", \"covid19\", \"pandemic\", \"quarantine\", and \"social distancing\".\n",
        "\n",
        "### 3.2 Dataset Size and Structure\n",
        "\n",
        "The COVIDSenti dataset consists of 90,000 tweets, evenly distributed across three sentiment classes: positive, negative, and neutral. The dataset is further divided into three subsets: COVIDSenti-A, COVIDSenti-B, and COVIDSenti-C, each containing 30,000 tweets.\n",
        "\n",
        "The CSV files contain the following columns:\n",
        "- `tweet`: The text content of the tweet\n",
        "- `label`: The sentiment label assigned to the tweet (positive, negative, or neutral)\n",
        "\n",
        "### 3.3 Data Preprocessing\n",
        "\n",
        "To prepare the dataset for our sentiment analysis models, we performed the following preprocessing steps: (*not sure yet, could be modified later haha, just list 5 examples of possible preprocessing*)\n",
        "\n",
        "1. Removing URLs, mentions, and special characters from the tweet text\n",
        "2. Converting the text to lowercase\n",
        "3. Tokenizing the text into individual words\n",
        "4. Removing stop words (common words like \"the\", \"and\", \"in\", etc.)\n",
        "5. Lemmatizing the words to their base for\n",
        "6. (Maybe translating emoji?)\n",
        "\n",
        "The preprocessed dataset is then split into training, validation, and testing sets for model development and evaluation.\n",
        "\n",
        "### 3.4 Data Availability\n",
        "\n",
        "The COVIDSenti dataset is publicly available on GitHub, along with the code and resources used in the original paper. This allows for easy reproducibility and comparison of sentiment analysis models trained on this dataset."
      ],
      "metadata": {
        "id": "ix-PQE1Tb0jT"
      }
    },
    {
      "cell_type": "code",
      "source": [
        "# @title 📊Load and Preview COVIDSenti Dataset\n",
        "import pandas as pd\n",
        "import numpy as np\n",
        "import matplotlib.pyplot as plt\n",
        "import seaborn as sns\n",
        "\n",
        "url = 'https://raw.githubusercontent.com/usmaann/COVIDSenti/main/COVIDSenti.csv'\n",
        "url_A = 'https://raw.githubusercontent.com/usmaann/COVIDSenti/main/COVIDSenti-A.csv'\n",
        "url_B = 'https://raw.githubusercontent.com/usmaann/COVIDSenti/main/COVIDSenti-B.csv'\n",
        "url_C = 'https://raw.githubusercontent.com/usmaann/COVIDSenti/main/COVIDSenti-C.csv'\n",
        "\n",
        "df = pd.read_csv(url)\n",
        "df_A = pd.read_csv(url_A)\n",
        "df_B = pd.read_csv(url_B)\n",
        "df_C = pd.read_csv(url_C)\n",
        "\n",
        "df_A.head()"
      ],
      "metadata": {
        "id": "Vv1vA9zfnVKj",
        "colab": {
          "base_uri": "https://localhost:8080/",
          "height": 206
        },
        "outputId": "78f93cb0-754b-41b9-8762-d5b61612599d"
      },
      "execution_count": 15,
      "outputs": [
        {
          "output_type": "execute_result",
          "data": {
            "text/plain": [
              "                                               tweet label\n",
              "0  Coronavirus | Human Coronavirus Types | CDC ht...   neu\n",
              "1  @shehryar_taseer That‚Äôs üíØ true , \\nCorona...   neu\n",
              "2  TLDR: Not SARS, possibly new coronavirus. Diff...   neg\n",
              "3  Disease outbreak news from the WHO: Middle Eas...   neu\n",
              "4  China - Media: WSJ says sources tell them myst...   neu"
            ],
            "text/html": [
              "\n",
              "  <div id=\"df-7997d807-2d00-4b9e-9c3a-55236c8c44cf\" class=\"colab-df-container\">\n",
              "    <div>\n",
              "<style scoped>\n",
              "    .dataframe tbody tr th:only-of-type {\n",
              "        vertical-align: middle;\n",
              "    }\n",
              "\n",
              "    .dataframe tbody tr th {\n",
              "        vertical-align: top;\n",
              "    }\n",
              "\n",
              "    .dataframe thead th {\n",
              "        text-align: right;\n",
              "    }\n",
              "</style>\n",
              "<table border=\"1\" class=\"dataframe\">\n",
              "  <thead>\n",
              "    <tr style=\"text-align: right;\">\n",
              "      <th></th>\n",
              "      <th>tweet</th>\n",
              "      <th>label</th>\n",
              "    </tr>\n",
              "  </thead>\n",
              "  <tbody>\n",
              "    <tr>\n",
              "      <th>0</th>\n",
              "      <td>Coronavirus | Human Coronavirus Types | CDC ht...</td>\n",
              "      <td>neu</td>\n",
              "    </tr>\n",
              "    <tr>\n",
              "      <th>1</th>\n",
              "      <td>@shehryar_taseer That‚Äôs üíØ true , \\nCorona...</td>\n",
              "      <td>neu</td>\n",
              "    </tr>\n",
              "    <tr>\n",
              "      <th>2</th>\n",
              "      <td>TLDR: Not SARS, possibly new coronavirus. Diff...</td>\n",
              "      <td>neg</td>\n",
              "    </tr>\n",
              "    <tr>\n",
              "      <th>3</th>\n",
              "      <td>Disease outbreak news from the WHO: Middle Eas...</td>\n",
              "      <td>neu</td>\n",
              "    </tr>\n",
              "    <tr>\n",
              "      <th>4</th>\n",
              "      <td>China - Media: WSJ says sources tell them myst...</td>\n",
              "      <td>neu</td>\n",
              "    </tr>\n",
              "  </tbody>\n",
              "</table>\n",
              "</div>\n",
              "    <div class=\"colab-df-buttons\">\n",
              "\n",
              "  <div class=\"colab-df-container\">\n",
              "    <button class=\"colab-df-convert\" onclick=\"convertToInteractive('df-7997d807-2d00-4b9e-9c3a-55236c8c44cf')\"\n",
              "            title=\"Convert this dataframe to an interactive table.\"\n",
              "            style=\"display:none;\">\n",
              "\n",
              "  <svg xmlns=\"http://www.w3.org/2000/svg\" height=\"24px\" viewBox=\"0 -960 960 960\">\n",
              "    <path d=\"M120-120v-720h720v720H120Zm60-500h600v-160H180v160Zm220 220h160v-160H400v160Zm0 220h160v-160H400v160ZM180-400h160v-160H180v160Zm440 0h160v-160H620v160ZM180-180h160v-160H180v160Zm440 0h160v-160H620v160Z\"/>\n",
              "  </svg>\n",
              "    </button>\n",
              "\n",
              "  <style>\n",
              "    .colab-df-container {\n",
              "      display:flex;\n",
              "      gap: 12px;\n",
              "    }\n",
              "\n",
              "    .colab-df-convert {\n",
              "      background-color: #E8F0FE;\n",
              "      border: none;\n",
              "      border-radius: 50%;\n",
              "      cursor: pointer;\n",
              "      display: none;\n",
              "      fill: #1967D2;\n",
              "      height: 32px;\n",
              "      padding: 0 0 0 0;\n",
              "      width: 32px;\n",
              "    }\n",
              "\n",
              "    .colab-df-convert:hover {\n",
              "      background-color: #E2EBFA;\n",
              "      box-shadow: 0px 1px 2px rgba(60, 64, 67, 0.3), 0px 1px 3px 1px rgba(60, 64, 67, 0.15);\n",
              "      fill: #174EA6;\n",
              "    }\n",
              "\n",
              "    .colab-df-buttons div {\n",
              "      margin-bottom: 4px;\n",
              "    }\n",
              "\n",
              "    [theme=dark] .colab-df-convert {\n",
              "      background-color: #3B4455;\n",
              "      fill: #D2E3FC;\n",
              "    }\n",
              "\n",
              "    [theme=dark] .colab-df-convert:hover {\n",
              "      background-color: #434B5C;\n",
              "      box-shadow: 0px 1px 3px 1px rgba(0, 0, 0, 0.15);\n",
              "      filter: drop-shadow(0px 1px 2px rgba(0, 0, 0, 0.3));\n",
              "      fill: #FFFFFF;\n",
              "    }\n",
              "  </style>\n",
              "\n",
              "    <script>\n",
              "      const buttonEl =\n",
              "        document.querySelector('#df-7997d807-2d00-4b9e-9c3a-55236c8c44cf button.colab-df-convert');\n",
              "      buttonEl.style.display =\n",
              "        google.colab.kernel.accessAllowed ? 'block' : 'none';\n",
              "\n",
              "      async function convertToInteractive(key) {\n",
              "        const element = document.querySelector('#df-7997d807-2d00-4b9e-9c3a-55236c8c44cf');\n",
              "        const dataTable =\n",
              "          await google.colab.kernel.invokeFunction('convertToInteractive',\n",
              "                                                    [key], {});\n",
              "        if (!dataTable) return;\n",
              "\n",
              "        const docLinkHtml = 'Like what you see? Visit the ' +\n",
              "          '<a target=\"_blank\" href=https://colab.research.google.com/notebooks/data_table.ipynb>data table notebook</a>'\n",
              "          + ' to learn more about interactive tables.';\n",
              "        element.innerHTML = '';\n",
              "        dataTable['output_type'] = 'display_data';\n",
              "        await google.colab.output.renderOutput(dataTable, element);\n",
              "        const docLink = document.createElement('div');\n",
              "        docLink.innerHTML = docLinkHtml;\n",
              "        element.appendChild(docLink);\n",
              "      }\n",
              "    </script>\n",
              "  </div>\n",
              "\n",
              "\n",
              "<div id=\"df-9bf3fd35-b3e8-4626-80e7-39b27a2a877f\">\n",
              "  <button class=\"colab-df-quickchart\" onclick=\"quickchart('df-9bf3fd35-b3e8-4626-80e7-39b27a2a877f')\"\n",
              "            title=\"Suggest charts\"\n",
              "            style=\"display:none;\">\n",
              "\n",
              "<svg xmlns=\"http://www.w3.org/2000/svg\" height=\"24px\"viewBox=\"0 0 24 24\"\n",
              "     width=\"24px\">\n",
              "    <g>\n",
              "        <path d=\"M19 3H5c-1.1 0-2 .9-2 2v14c0 1.1.9 2 2 2h14c1.1 0 2-.9 2-2V5c0-1.1-.9-2-2-2zM9 17H7v-7h2v7zm4 0h-2V7h2v10zm4 0h-2v-4h2v4z\"/>\n",
              "    </g>\n",
              "</svg>\n",
              "  </button>\n",
              "\n",
              "<style>\n",
              "  .colab-df-quickchart {\n",
              "      --bg-color: #E8F0FE;\n",
              "      --fill-color: #1967D2;\n",
              "      --hover-bg-color: #E2EBFA;\n",
              "      --hover-fill-color: #174EA6;\n",
              "      --disabled-fill-color: #AAA;\n",
              "      --disabled-bg-color: #DDD;\n",
              "  }\n",
              "\n",
              "  [theme=dark] .colab-df-quickchart {\n",
              "      --bg-color: #3B4455;\n",
              "      --fill-color: #D2E3FC;\n",
              "      --hover-bg-color: #434B5C;\n",
              "      --hover-fill-color: #FFFFFF;\n",
              "      --disabled-bg-color: #3B4455;\n",
              "      --disabled-fill-color: #666;\n",
              "  }\n",
              "\n",
              "  .colab-df-quickchart {\n",
              "    background-color: var(--bg-color);\n",
              "    border: none;\n",
              "    border-radius: 50%;\n",
              "    cursor: pointer;\n",
              "    display: none;\n",
              "    fill: var(--fill-color);\n",
              "    height: 32px;\n",
              "    padding: 0;\n",
              "    width: 32px;\n",
              "  }\n",
              "\n",
              "  .colab-df-quickchart:hover {\n",
              "    background-color: var(--hover-bg-color);\n",
              "    box-shadow: 0 1px 2px rgba(60, 64, 67, 0.3), 0 1px 3px 1px rgba(60, 64, 67, 0.15);\n",
              "    fill: var(--button-hover-fill-color);\n",
              "  }\n",
              "\n",
              "  .colab-df-quickchart-complete:disabled,\n",
              "  .colab-df-quickchart-complete:disabled:hover {\n",
              "    background-color: var(--disabled-bg-color);\n",
              "    fill: var(--disabled-fill-color);\n",
              "    box-shadow: none;\n",
              "  }\n",
              "\n",
              "  .colab-df-spinner {\n",
              "    border: 2px solid var(--fill-color);\n",
              "    border-color: transparent;\n",
              "    border-bottom-color: var(--fill-color);\n",
              "    animation:\n",
              "      spin 1s steps(1) infinite;\n",
              "  }\n",
              "\n",
              "  @keyframes spin {\n",
              "    0% {\n",
              "      border-color: transparent;\n",
              "      border-bottom-color: var(--fill-color);\n",
              "      border-left-color: var(--fill-color);\n",
              "    }\n",
              "    20% {\n",
              "      border-color: transparent;\n",
              "      border-left-color: var(--fill-color);\n",
              "      border-top-color: var(--fill-color);\n",
              "    }\n",
              "    30% {\n",
              "      border-color: transparent;\n",
              "      border-left-color: var(--fill-color);\n",
              "      border-top-color: var(--fill-color);\n",
              "      border-right-color: var(--fill-color);\n",
              "    }\n",
              "    40% {\n",
              "      border-color: transparent;\n",
              "      border-right-color: var(--fill-color);\n",
              "      border-top-color: var(--fill-color);\n",
              "    }\n",
              "    60% {\n",
              "      border-color: transparent;\n",
              "      border-right-color: var(--fill-color);\n",
              "    }\n",
              "    80% {\n",
              "      border-color: transparent;\n",
              "      border-right-color: var(--fill-color);\n",
              "      border-bottom-color: var(--fill-color);\n",
              "    }\n",
              "    90% {\n",
              "      border-color: transparent;\n",
              "      border-bottom-color: var(--fill-color);\n",
              "    }\n",
              "  }\n",
              "</style>\n",
              "\n",
              "  <script>\n",
              "    async function quickchart(key) {\n",
              "      const quickchartButtonEl =\n",
              "        document.querySelector('#' + key + ' button');\n",
              "      quickchartButtonEl.disabled = true;  // To prevent multiple clicks.\n",
              "      quickchartButtonEl.classList.add('colab-df-spinner');\n",
              "      try {\n",
              "        const charts = await google.colab.kernel.invokeFunction(\n",
              "            'suggestCharts', [key], {});\n",
              "      } catch (error) {\n",
              "        console.error('Error during call to suggestCharts:', error);\n",
              "      }\n",
              "      quickchartButtonEl.classList.remove('colab-df-spinner');\n",
              "      quickchartButtonEl.classList.add('colab-df-quickchart-complete');\n",
              "    }\n",
              "    (() => {\n",
              "      let quickchartButtonEl =\n",
              "        document.querySelector('#df-9bf3fd35-b3e8-4626-80e7-39b27a2a877f button');\n",
              "      quickchartButtonEl.style.display =\n",
              "        google.colab.kernel.accessAllowed ? 'block' : 'none';\n",
              "    })();\n",
              "  </script>\n",
              "</div>\n",
              "\n",
              "    </div>\n",
              "  </div>\n"
            ],
            "application/vnd.google.colaboratory.intrinsic+json": {
              "type": "dataframe",
              "variable_name": "df_A",
              "summary": "{\n  \"name\": \"df_A\",\n  \"rows\": 30000,\n  \"fields\": [\n    {\n      \"column\": \"tweet\",\n      \"properties\": {\n        \"dtype\": \"string\",\n        \"num_unique_values\": 29987,\n        \"samples\": [\n          \"NAB confirms show will take place in April https://t.co/G3cQRLnqTg (apparently they know coronavirus wont get worse !)\",\n          \"\\u201e\\u00c4\\u00eaHow come...\\u201e\\u00c4\\u00eb\\nA Disturbing Number of People Think Coronavirus Is Related to Corona Beer https://t.co/25SWFXlbt6 @vice\\u201e\\u00c5\\u00ef\\u201e\\u00c7\\u00ec\\u201e\\u00c5\\u00e3\\u201e\\u00c7\\u00e2\",\n          \"Wuhan coronavirus: Death toll in China rises to 304 with 45 new fatalities https://t.co/VynXpSdjPl\"\n        ],\n        \"semantic_type\": \"\",\n        \"description\": \"\"\n      }\n    },\n    {\n      \"column\": \"label\",\n      \"properties\": {\n        \"dtype\": \"category\",\n        \"num_unique_values\": 3,\n        \"samples\": [\n          \"neu\",\n          \"neg\",\n          \"pos\"\n        ],\n        \"semantic_type\": \"\",\n        \"description\": \"\"\n      }\n    }\n  ]\n}"
            }
          },
          "metadata": {},
          "execution_count": 15
        }
      ]
    },
    {
      "cell_type": "code",
      "source": [
        "print(df.info())\n",
        "print(df['label'].value_counts())\n",
        "df['label'].value_counts().plot(kind='bar', color=sns.color_palette('Dark2'))\n",
        "plt.title('Distribution of Sentiment Labels')\n",
        "plt.xlabel('Sentiment')\n",
        "plt.ylabel('Frequency')\n",
        "plt.show()"
      ],
      "metadata": {
        "colab": {
          "base_uri": "https://localhost:8080/",
          "height": 744
        },
        "id": "6we9Ceo_n_vT",
        "outputId": "709e0562-c005-416f-bb5f-3017bcc70b94"
      },
      "execution_count": 16,
      "outputs": [
        {
          "output_type": "stream",
          "name": "stdout",
          "text": [
            "<class 'pandas.core.frame.DataFrame'>\n",
            "RangeIndex: 90000 entries, 0 to 89999\n",
            "Data columns (total 2 columns):\n",
            " #   Column  Non-Null Count  Dtype \n",
            "---  ------  --------------  ----- \n",
            " 0   tweet   90000 non-null  object\n",
            " 1   label   90000 non-null  object\n",
            "dtypes: object(2)\n",
            "memory usage: 1.4+ MB\n",
            "None\n",
            "label\n",
            "neu    67385\n",
            "neg    16335\n",
            "pos     6280\n",
            "Name: count, dtype: int64\n"
          ]
        },
        {
          "output_type": "display_data",
          "data": {
            "text/plain": [
              "<Figure size 640x480 with 1 Axes>"
            ],
            "image/png": "[encoded data removed]"
          },
          "metadata": {}
        }
      ]
    },
    {
      "cell_type": "markdown",
      "source": [
        "<a name=\"data-analysis\"></a>\n",
        "## 4. Exploratory Data Analysis\n",
        "- Visualize the distribution of sentiment labels in the dataset\n",
        "- Analyze the length distribution of tweets\n",
        "- Identify the most common words and bigrams in each sentiment class (using wordclouds and stuff to visualize)\n",
        "- Explore the temporal distribution of tweets and sentiment labels\n",
        "- Visualize the co-occurrence of words in the dataset"
      ],
      "metadata": {
        "id": "oOLLDYAzo1Ly"
      }
    },
    {
      "cell_type": "markdown",
      "source": [
        "<a name=\"models\"></a>\n",
        "## 5. Sentiment Analysis Models\n",
        "- Introduce the LSTM and BERT models for sentiment analysis\n",
        "- Discuss the architecture and key features of each model\n",
        "- Explain the process of tokenization, embedding, and model training\n",
        "- Describe any modifications or hyperparameter tuning performed on the models"
      ],
      "metadata": {
        "id": "vbveeqXde4rl"
      }
    },
    {
      "cell_type": "markdown",
      "source": [
        "<a name=\"results\"></a>\n",
        "## 6. Experimental Setup & Results\n",
        "- Explain the train-validation-test split of the dataset\n",
        "- Discuss the choice of evaluation metrics (accuracy, precision, recall, F1-score)\n",
        "- Present the results of the LSTM and BERT models on the test set\n",
        "- Compare the performance of the models and discuss their strengths and weaknesses\n",
        "- Visualize the learning curves and confusion matrices for each model"
      ],
      "metadata": {
        "id": "rG6fv9X7e45o"
      }
    },
    {
      "cell_type": "markdown",
      "source": [
        "<a name=\"analysis--interpretation\"></a>\n",
        "## 7. Model Analysis & Interpretation\n",
        "- Analyze the attention weights of the BERT model to identify important words and phrases for each sentiment class\n",
        "- Visualize the learned word embeddings of the LSTM model and try to explore semantic relationships *(I'm not very confident, to be honest. I struggled a bit with analyzing the inner workings of the LSTM model in Assignment 1)*\n",
        "- Maybe use techniques like LIME or SHapley Additive exPlanations (SHAP) to interpret the model predictions\n",
        "- Discuss interesting or surprising findings from the model analysis"
      ],
      "metadata": {
        "id": "43vNgLDPe5Co"
      }
    },
    {
      "cell_type": "markdown",
      "source": [
        "<a name=\"fine-tuning\"></a>\n",
        "## 8. Fine-Tuning and Hyperparameter Tuning\n",
        "- Experiment with different hyperparameters for the LSTM and BERT models (learning rate, batch size, number of layers, etc.)\n",
        "- Perform fine-tuning of the BERT model on the COVIDSenti dataset\n",
        "- Discuss the impact of hyperparameter tuning and fine-tuning on model performance"
      ],
      "metadata": {
        "id": "TctPIN8te5qk"
      }
    },
    {
      "cell_type": "markdown",
      "source": [
        "<a name=\"different-datasets\"></a>\n",
        "## 9. Exploring Different Datasets and Models (if we have time)\n",
        "- Apply the sentiment analysis models to other COVID-19 related datasets\n",
        "- Experiment with different pre-trained word embeddings (GloVe, FastText, etc.)\n",
        "- Explore other deep learning architectures for sentiment analysis (CNN, BiLSTM, AlBERT, XLNet etc.)\n",
        "- Compare the performance of the models across different datasets and architectures"
      ],
      "metadata": {
        "id": "JTcNi8S7e5wk"
      }
    },
    {
      "cell_type": "markdown",
      "source": [
        "<a name=\"conclusion\"></a>\n",
        "## 10. Conclusion & Future Work\n",
        "- Summarize the main findings and contributions of the project\n",
        "- Discuss the limitations and potential improvements of the current approach\n",
        "- Suggest future research directions. I don't know, maybe explore something such as incorporating multimodal data (images, videos) or exploring cross-lingual sentiment analysis\n",
        "- Reflect on the broader implications of the project for understanding public sentiment during crises"
      ],
      "metadata": {
        "id": "VV2bWRmYe53d"
      }
    }
  ]
}