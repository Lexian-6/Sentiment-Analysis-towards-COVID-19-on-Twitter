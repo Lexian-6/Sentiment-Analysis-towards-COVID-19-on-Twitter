{
  "nbformat": 4,
  "nbformat_minor": 0,
  "metadata": {
    "colab": {
      "provenance": [],
      "gpuType": "T4",
      "collapsed_sections": [
        "REXbwG67ZCSn",
        "oldIPKcS3Xl_",
        "NaoonxeJ081W",
        "EhWu7-fb1fFz",
        "pCtlUlj0QI-J",
        "NJAbYp9KQO2l",
        "iDGkApsM1qOC",
        "paLnw_hN2HUg",
        "3R7OdsrFQUJs",
        "n5YlJsNdQwcd",
        "b0zbBlEDxIvB",
        "ZpcFifjLxQou",
        "pAEWnJSSxRvX",
        "tG-FTllm393m",
        "ldFKruDcyn6W",
        "phEfNXhhxswc",
        "c1nRF2jYx2Y5",
        "2owHfxgb2l9O"
      ],
      "mount_file_id": "1pwO1tBcoMjsi7fQIDHyY2inKsBN2uAG2",
      "authorship_tag": "ABX9TyN2ggS/50KyPm7kEic2EKrE",
      "include_colab_link": true
    },
    "kernelspec": {
      "name": "python3",
      "display_name": "Python 3"
    },
    "language_info": {
      "name": "python"
    },
    "accelerator": "GPU"
  },
  "cells": [
    {
      "cell_type": "markdown",
      "metadata": {
        "id": "view-in-github",
        "colab_type": "text"
      },
      "source": [
        "<a href=\"https://colab.research.google.com/github/Lexian-6/Sentiment-Analysis-towards-COVID-19-on-Twitter/blob/Young%2FLSTM/Pytorch_LSTM.ipynb\" target=\"_parent\"><img src=\"https://colab.research.google.com/assets/colab-badge.svg\" alt=\"Open In Colab\"/></a>"
      ]
    },
    {
      "cell_type": "markdown",
      "source": [
        "# **Preprocess**"
      ],
      "metadata": {
        "id": "REXbwG67ZCSn"
      }
    },
    {
      "cell_type": "code",
      "execution_count": null,
      "metadata": {
        "colab": {
          "base_uri": "https://localhost:8080/"
        },
        "collapsed": true,
        "id": "S8z8RQkzYu7s",
        "outputId": "2d718b95-9791-416d-d895-b320973c6104"
      },
      "outputs": [
        {
          "output_type": "stream",
          "name": "stdout",
          "text": [
            "<class 'pandas.core.frame.DataFrame'>\n",
            "RangeIndex: 90000 entries, 0 to 89999\n",
            "Data columns (total 2 columns):\n",
            " #   Column  Non-Null Count  Dtype \n",
            "---  ------  --------------  ----- \n",
            " 0   tweet   90000 non-null  object\n",
            " 1   label   90000 non-null  object\n",
            "dtypes: object(2)\n",
            "memory usage: 1.4+ MB\n",
            "None\n",
            "label\n",
            "neu    67385\n",
            "neg    16335\n",
            "pos     6280\n",
            "Name: count, dtype: int64\n",
            "                                               tweet label\n",
            "0  Coronavirus | Human Coronavirus Types | CDC ht...   neu\n",
            "1  @shehryar_taseer That‚Äôs üíØ true , \\nCorona...   neu\n",
            "2  TLDR: Not SARS, possibly new coronavirus. Diff...   neg\n",
            "3  Disease outbreak news from the WHO: Middle Eas...   neu\n",
            "4  China - Media: WSJ says sources tell them myst...   neu\n",
            "-------------------------------------------------------------------------\n",
            "<class 'pandas.core.frame.DataFrame'>\n",
            "RangeIndex: 30000 entries, 0 to 29999\n",
            "Data columns (total 2 columns):\n",
            " #   Column  Non-Null Count  Dtype \n",
            "---  ------  --------------  ----- \n",
            " 0   tweet   30000 non-null  object\n",
            " 1   label   30000 non-null  object\n",
            "dtypes: object(2)\n",
            "memory usage: 468.9+ KB\n",
            "None\n",
            "label\n",
            "neu    22949\n",
            "neg     5083\n",
            "pos     1968\n",
            "Name: count, dtype: int64\n",
            "                                               tweet label\n",
            "0  Coronavirus | Human Coronavirus Types | CDC ht...   neu\n",
            "1  @shehryar_taseer That‚Äôs üíØ true , \\nCorona...   neu\n",
            "2  TLDR: Not SARS, possibly new coronavirus. Diff...   neg\n",
            "3  Disease outbreak news from the WHO: Middle Eas...   neu\n",
            "4  China - Media: WSJ says sources tell them myst...   neu\n",
            "-------------------------------------------------------------------------\n",
            "<class 'pandas.core.frame.DataFrame'>\n",
            "RangeIndex: 30000 entries, 0 to 29999\n",
            "Data columns (total 2 columns):\n",
            " #   Column  Non-Null Count  Dtype \n",
            "---  ------  --------------  ----- \n",
            " 0   tweet   30000 non-null  object\n",
            " 1   label   30000 non-null  object\n",
            "dtypes: object(2)\n",
            "memory usage: 468.9+ KB\n",
            "None\n",
            "label\n",
            "neu    22496\n",
            "neg     5471\n",
            "pos     2033\n",
            "Name: count, dtype: int64\n",
            "                                               tweet label\n",
            "0  Coronavirus fears expose a cultural divide ove...   neu\n",
            "1  Coronavirus Live Updates: Global Outbreak Rais...   neu\n",
            "2  Ruling party, government mull W10tr to tackle ...   neu\n",
            "3  Exclusive: Thousands in Coronavirus Epicenter ...   neg\n",
            "4  @Queen_kimo_ Derp derp, what's that have to do...   neu\n",
            "-------------------------------------------------------------------------\n",
            "<class 'pandas.core.frame.DataFrame'>\n",
            "RangeIndex: 30000 entries, 0 to 29999\n",
            "Data columns (total 2 columns):\n",
            " #   Column  Non-Null Count  Dtype \n",
            "---  ------  --------------  ----- \n",
            " 0   tweet   30000 non-null  object\n",
            " 1   label   30000 non-null  object\n",
            "dtypes: object(2)\n",
            "memory usage: 468.9+ KB\n",
            "None\n",
            "label\n",
            "neu    21940\n",
            "neg     5781\n",
            "pos     2279\n",
            "Name: count, dtype: int64\n",
            "                                               tweet label\n",
            "0  BREAKING: Kim Jong-un sends condolence letter ...   pos\n",
            "1  Coronavirus: Cases rise in South Korea as Aust...   neu\n",
            "2  How dangerous is coronavirus really, when are ...   neu\n",
            "3  @Dr_psychiatry Make a mark and also coronaviru...   neu\n",
            "4  As #Coronavirus positive cases continues to ri...   neu\n"
          ]
        }
      ],
      "source": [
        "import pandas as pd\n",
        "import numpy as np\n",
        "import matplotlib.pyplot as plt\n",
        "import seaborn as sns\n",
        "import re\n",
        "\n",
        "url = 'https://raw.githubusercontent.com/usmaann/COVIDSenti/main/COVIDSenti.csv'\n",
        "url_A = 'https://raw.githubusercontent.com/usmaann/COVIDSenti/main/COVIDSenti-A.csv'\n",
        "url_B = 'https://raw.githubusercontent.com/usmaann/COVIDSenti/main/COVIDSenti-B.csv'\n",
        "url_C = 'https://raw.githubusercontent.com/usmaann/COVIDSenti/main/COVIDSenti-C.csv'\n",
        "\n",
        "original_df = pd.read_csv(url)\n",
        "original_df_A = pd.read_csv(url_A)\n",
        "original_df_B = pd.read_csv(url_B)\n",
        "original_df_C = pd.read_csv(url_C)\n",
        "# Preparing / Initialization for preprocessed dataset\n",
        "df = pd.read_csv(url)\n",
        "df_A = pd.read_csv(url_A)\n",
        "df_B = pd.read_csv(url_B)\n",
        "df_C = pd.read_csv(url_C)\n",
        "\n",
        "print(original_df.info())\n",
        "print(original_df['label'].value_counts())\n",
        "print(original_df.head())\n",
        "\n",
        "print(\"-------------------------------------------------------------------------\")\n",
        "print(original_df_A.info())\n",
        "print(original_df_A['label'].value_counts())\n",
        "print(original_df_A.head())\n",
        "\n",
        "print(\"-------------------------------------------------------------------------\")\n",
        "print(original_df_B.info())\n",
        "print(original_df_B['label'].value_counts())\n",
        "print(original_df_B.head())\n",
        "\n",
        "print(\"-------------------------------------------------------------------------\")\n",
        "print(original_df_C.info())\n",
        "print(original_df_C['label'].value_counts())\n",
        "print(original_df_C.head())"
      ]
    },
    {
      "cell_type": "code",
      "source": [
        "# @title #### 3.4.1 **Lowercase Conversion**:\n",
        "df['tweet'] = original_df['tweet'].str.lower()\n",
        "df_A['tweet'] = original_df_A['tweet'].str.lower()\n",
        "df_B['tweet'] = original_df_B['tweet'].str.lower()\n",
        "df_C['tweet'] = original_df_C['tweet'].str.lower()\n",
        "print(original_df.iloc[0, 0])\n",
        "print(df.iloc[0, 0])"
      ],
      "metadata": {
        "colab": {
          "base_uri": "https://localhost:8080/"
        },
        "id": "-w19BUMmMd1m",
        "outputId": "f23f425b-f33b-43d5-b4e3-af10f633adaf"
      },
      "execution_count": null,
      "outputs": [
        {
          "output_type": "stream",
          "name": "stdout",
          "text": [
            "Coronavirus | Human Coronavirus Types | CDC https://t.co/IxoxVRarIb\n",
            "coronavirus | human coronavirus types | cdc https://t.co/ixoxvrarib\n"
          ]
        }
      ]
    },
    {
      "cell_type": "code",
      "source": [
        "\n",
        "# @title #### 3.4.2 **Removing URLs**:\n",
        "def remove_urls(text):\n",
        "    # Match URLs starting with \"http://\", \"https://\", or \"www.\".\n",
        "    url_pattern = re.compile(r'https?://\\S+|www\\.\\S+')\n",
        "    return url_pattern.sub(r'', text)\n",
        "\n",
        "df['tweet'] = df['tweet'].apply(lambda x: remove_urls(x))\n",
        "df_A['tweet'] = df_A['tweet'].apply(lambda x: remove_urls(x))\n",
        "df_B['tweet'] = df_B['tweet'].apply(lambda x: remove_urls(x))\n",
        "df_C['tweet'] = df_C['tweet'].apply(lambda x: remove_urls(x))\n",
        "print(original_df.iloc[0, 0])\n",
        "print(df.iloc[0, 0])"
      ],
      "metadata": {
        "colab": {
          "base_uri": "https://localhost:8080/"
        },
        "id": "X20YoofQMeF5",
        "outputId": "d77ba761-caf2-4fce-8542-e459a51352d9"
      },
      "execution_count": null,
      "outputs": [
        {
          "output_type": "stream",
          "name": "stdout",
          "text": [
            "Coronavirus | Human Coronavirus Types | CDC https://t.co/IxoxVRarIb\n",
            "coronavirus | human coronavirus types | cdc \n"
          ]
        }
      ]
    },
    {
      "cell_type": "code",
      "source": [
        "# @title #### 3.4.3 **Removing mentions and hashtags**:\n",
        "def remove_mentions_hashtags(text):\n",
        "    mention_pattern = re.compile(r'@\\w+')\n",
        "    hashtag_pattern = re.compile(r'#\\w+')\n",
        "    text = mention_pattern.sub(r'', text)\n",
        "    text = hashtag_pattern.sub(r'', text)\n",
        "    return text\n",
        "\n",
        "df['tweet'] = df['tweet'].apply(lambda x: remove_mentions_hashtags(x))\n",
        "df_A['tweet'] = df_A['tweet'].apply(lambda x: remove_mentions_hashtags(x))\n",
        "df_B['tweet'] = df_B['tweet'].apply(lambda x: remove_mentions_hashtags(x))\n",
        "df_C['tweet'] = df_C['tweet'].apply(lambda x: remove_mentions_hashtags(x))\n",
        "print(original_df.iloc[1, 0])\n",
        "print(\"------------------------------------------------------------------------\")\n",
        "print(df.iloc[1, 0])"
      ],
      "metadata": {
        "colab": {
          "base_uri": "https://localhost:8080/"
        },
        "id": "7diUvWSeMeJI",
        "outputId": "0609d1d8-7321-4231-a0a1-7770ae753706"
      },
      "execution_count": null,
      "outputs": [
        {
          "output_type": "stream",
          "name": "stdout",
          "text": [
            "@shehryar_taseer That‚Äôs üíØ true , \n",
            "Corona virus \n",
            "swine flue \n",
            "Bird flu in December when whole Pk is busy in Marriage‚Ä¶ https://t.co/6JWBIymnyo\n",
            "------------------------------------------------------------------------\n",
            " that‚äôs üíø true , \n",
            "corona virus \n",
            "swine flue \n",
            "bird flu in december when whole pk is busy in marriage‚ä¶ \n"
          ]
        }
      ]
    },
    {
      "cell_type": "code",
      "source": [
        "\n",
        "# @title #### 3.4.4 Remove special characters and punctuation\n",
        "def remove_special_characters(text):\n",
        "    special_char_pattern = re.compile(r'[^a-zA-Z0-9\\s]')\n",
        "    text = special_char_pattern.sub(r'', text)\n",
        "    return text\n",
        "\n",
        "df['tweet'] = df['tweet'].apply(lambda x: remove_special_characters(x))\n",
        "df_A['tweet'] = df_A['tweet'].apply(lambda x: remove_special_characters(x))\n",
        "df_B['tweet'] = df_B['tweet'].apply(lambda x: remove_special_characters(x))\n",
        "df_C['tweet'] = df_C['tweet'].apply(lambda x: remove_special_characters(x))\n",
        "\n",
        "print(original_df.iloc[1, 0])\n",
        "print(\"------------------------------------------------------------------------\")\n",
        "print(df.iloc[1, 0])\n"
      ],
      "metadata": {
        "colab": {
          "base_uri": "https://localhost:8080/"
        },
        "id": "AN5STgvLMk9T",
        "outputId": "67f31ef1-5418-4653-ba2c-82f06d5f405f"
      },
      "execution_count": null,
      "outputs": [
        {
          "output_type": "stream",
          "name": "stdout",
          "text": [
            "@shehryar_taseer That‚Äôs üíØ true , \n",
            "Corona virus \n",
            "swine flue \n",
            "Bird flu in December when whole Pk is busy in Marriage‚Ä¶ https://t.co/6JWBIymnyo\n",
            "------------------------------------------------------------------------\n",
            " thats  true  \n",
            "corona virus \n",
            "swine flue \n",
            "bird flu in december when whole pk is busy in marriage \n"
          ]
        }
      ]
    },
    {
      "cell_type": "code",
      "source": [
        "\n",
        "# @title #### 3.4.5 Removing Stop Words\n",
        "import nltk\n",
        "from nltk.corpus import stopwords\n",
        "\n",
        "nltk.download('stopwords')  # Download the stop words corpus\n",
        "\n",
        "# Remove stop words\n",
        "def remove_stopwords(text):\n",
        "    stop_words = set(stopwords.words('english'))\n",
        "    words = text.split()\n",
        "    filtered_words = [word for word in words if word.lower() not in stop_words]\n",
        "    filtered_text = ' '.join(filtered_words)\n",
        "    return filtered_text\n",
        "\n",
        "df['tweet'] = df['tweet'].apply(remove_stopwords)\n",
        "df_A['tweet'] = df_A['tweet'].apply(remove_stopwords)\n",
        "df_B['tweet'] = df_B['tweet'].apply(remove_stopwords)\n",
        "df_C['tweet'] = df_C['tweet'].apply(remove_stopwords)\n",
        "\n",
        "print(original_df.iloc[1, 0])\n",
        "print(\"------------------------------------------------------------------------\")\n",
        "print(df.iloc[1, 0])"
      ],
      "metadata": {
        "colab": {
          "base_uri": "https://localhost:8080/"
        },
        "cellView": "form",
        "collapsed": true,
        "id": "bys2tvEUMqbr",
        "outputId": "7f9b0b55-a930-46e3-ae0e-752def1908bd"
      },
      "execution_count": null,
      "outputs": [
        {
          "output_type": "stream",
          "name": "stderr",
          "text": [
            "[nltk_data] Downloading package stopwords to /root/nltk_data...\n",
            "[nltk_data]   Unzipping corpora/stopwords.zip.\n"
          ]
        },
        {
          "output_type": "stream",
          "name": "stdout",
          "text": [
            "@shehryar_taseer That‚Äôs üíØ true , \n",
            "Corona virus \n",
            "swine flue \n",
            "Bird flu in December when whole Pk is busy in Marriage‚Ä¶ https://t.co/6JWBIymnyo\n",
            "------------------------------------------------------------------------\n",
            "thats true corona virus swine flue bird flu december whole pk busy marriage\n"
          ]
        }
      ]
    },
    {
      "cell_type": "markdown",
      "source": [
        "## Tokenization"
      ],
      "metadata": {
        "id": "Zky5T5vdWJ-R"
      }
    },
    {
      "cell_type": "code",
      "source": [
        "import nltk\n",
        "nltk.download('punkt')\n",
        "from nltk.tokenize import word_tokenize\n",
        "\n",
        "# Tokenize the texts\n",
        "df['tweet'] = df['tweet'].apply(lambda x: word_tokenize(x))\n",
        "df_A['tweet'] = df_A['tweet'].apply(lambda x: word_tokenize(x))\n",
        "df_B['tweet'] = df_B['tweet'].apply(lambda x: word_tokenize(x))\n",
        "df_C['tweet'] = df_C['tweet'].apply(lambda x: word_tokenize(x))\n",
        "\n",
        "print(df['tweet'].head())"
      ],
      "metadata": {
        "colab": {
          "base_uri": "https://localhost:8080/"
        },
        "id": "nNlZyYmbZLPf",
        "outputId": "14605a45-02c3-4845-ad41-f8ae5402f497"
      },
      "execution_count": null,
      "outputs": [
        {
          "output_type": "stream",
          "name": "stderr",
          "text": [
            "[nltk_data] Downloading package punkt to /root/nltk_data...\n",
            "[nltk_data]   Package punkt is already up-to-date!\n"
          ]
        },
        {
          "output_type": "stream",
          "name": "stdout",
          "text": [
            "0        [coronavirus, human, coronavirus, types, cdc]\n",
            "1    [thats, true, corona, virus, swine, flue, bird...\n",
            "2    [tldr, sars, possibly, new, coronavirus, diffi...\n",
            "3    [disease, outbreak, news, middle, east, respir...\n",
            "4    [china, media, wsj, says, sources, tell, myste...\n",
            "Name: tweet, dtype: object\n"
          ]
        }
      ]
    },
    {
      "cell_type": "code",
      "source": [
        "from keras.preprocessing.text import Tokenizer\n",
        "from keras.preprocessing.sequence import pad_sequences\n",
        "from torch.utils.data import Dataset, DataLoader\n",
        "import torch\n",
        "\n",
        "\n",
        "# Combine all datasets into one list of tokenized texts\n",
        "all_texts = df['tweet'].tolist() + df_A['tweet'].tolist() + df_B['tweet'].tolist() + df_C['tweet'].tolist()\n",
        "\n",
        "# Create and fit the tokenizer\n",
        "tokenizer = Tokenizer()\n",
        "tokenizer.fit_on_texts([' '.join(text) for text in all_texts])\n",
        "\n",
        "# Convert the tokenized texts to sequences of integers\n",
        "df['tweet'] = df['tweet'].apply(lambda x: tokenizer.texts_to_sequences([' '.join(x)])[0])\n",
        "df_A['tweet'] = df_A['tweet'].apply(lambda x: tokenizer.texts_to_sequences([' '.join(x)])[0])\n",
        "df_B['tweet'] = df_B['tweet'].apply(lambda x: tokenizer.texts_to_sequences([' '.join(x)])[0])\n",
        "df_C['tweet'] = df_C['tweet'].apply(lambda x: tokenizer.texts_to_sequences([' '.join(x)])[0])\n",
        "\n",
        "# Find the maximum length of the sequences\n",
        "max_length = max(max(len(seq) for seq in df['tweet']),\n",
        "                 max(len(seq) for seq in df_A['tweet']),\n",
        "                 max(len(seq) for seq in df_B['tweet']),\n",
        "                 max(len(seq) for seq in df_C['tweet']))\n",
        "\n",
        "# Pad the sequences\n",
        "df['tweet'] = pad_sequences(df['tweet'].tolist(), maxlen=max_length, padding='post').tolist()\n",
        "df_A['tweet'] = pad_sequences(df_A['tweet'].tolist(), maxlen=max_length, padding='post').tolist()\n",
        "df_B['tweet'] = pad_sequences(df_B['tweet'].tolist(), maxlen=max_length, padding='post').tolist()\n",
        "df_C['tweet'] = pad_sequences(df_C['tweet'].tolist(), maxlen=max_length, padding='post').tolist()\n",
        "\n",
        "print(df['tweet'].head())"
      ],
      "metadata": {
        "colab": {
          "base_uri": "https://localhost:8080/"
        },
        "collapsed": true,
        "id": "vIhCx_EOZjNx",
        "outputId": "7bcb000d-07f5-4c0d-d652-fcb83ca48578"
      },
      "execution_count": null,
      "outputs": [
        {
          "output_type": "stream",
          "name": "stdout",
          "text": [
            "0    [1, 382, 1, 2558, 69, 0, 0, 0, 0, 0, 0, 0, 0, ...\n",
            "1    [135, 508, 3, 2, 1736, 9462, 2195, 41, 2302, 3...\n",
            "2    [9463, 240, 1321, 8, 1, 2386, 746, 102, 1059, ...\n",
            "3    [93, 10, 13, 957, 810, 1166, 2303, 1, 9464, 33...\n",
            "4    [4, 104, 2607, 20, 1286, 272, 3169, 861, 8, 1,...\n",
            "Name: tweet, dtype: object\n"
          ]
        }
      ]
    },
    {
      "cell_type": "markdown",
      "source": [
        "## Without Embeddings"
      ],
      "metadata": {
        "id": "oldIPKcS3Xl_"
      }
    },
    {
      "cell_type": "code",
      "source": [],
      "metadata": {
        "id": "x21fEDhL3bbE"
      },
      "execution_count": null,
      "outputs": []
    },
    {
      "cell_type": "markdown",
      "source": [
        "## GloVe Embedding"
      ],
      "metadata": {
        "id": "NaoonxeJ081W"
      }
    },
    {
      "cell_type": "code",
      "source": [
        "import numpy as np\n",
        "\n",
        "# Load GloVe embeddings\n",
        "embedding_index = {}\n",
        "with open(\"drive/MyDrive/Jialiang/9444/COVID19/glove/glove.6B.100d.txt\", \"r\", encoding=\"utf8\") as f:\n",
        "    for line in f:\n",
        "        values = line.split()\n",
        "        word = values[0]\n",
        "        coefs = np.asarray(values[1:], dtype=\"float32\")\n",
        "        embedding_index[word] = coefs\n",
        "\n",
        "# Create embedding matrix\n",
        "embedding_dim = 100  # Size of GloVe embeddings\n",
        "word_index = tokenizer.word_index  # Assuming tokenizer is already fitted\n",
        "embedding_matrix = np.zeros((len(word_index) + 1, embedding_dim))\n",
        "\n",
        "for word, i in word_index.items():\n",
        "    embedding_vector = embedding_index.get(word)\n",
        "    if embedding_vector is not None:\n",
        "        embedding_matrix[i] = embedding_vector\n",
        "\n",
        "# Convert to PyTorch tensor\n",
        "embedding_matrix = torch.tensor(embedding_matrix, dtype=torch.float32)"
      ],
      "metadata": {
        "id": "7jwXoq44bM8u"
      },
      "execution_count": null,
      "outputs": []
    },
    {
      "cell_type": "markdown",
      "source": [
        "## Train-Val-Test split"
      ],
      "metadata": {
        "id": "EhWu7-fb1fFz"
      }
    },
    {
      "cell_type": "code",
      "source": [
        "from sklearn.model_selection import train_test_split\n",
        "\n",
        "# Combine all data into a single DataFrame\n",
        "all_data = pd.concat([df, df_A, df_B, df_C], ignore_index=True)\n",
        "\n",
        "# Prepare labels\n",
        "from sklearn.preprocessing import LabelEncoder\n",
        "\n",
        "label_encoder = LabelEncoder()\n",
        "all_data['label'] = label_encoder.fit_transform(all_data['label'])\n",
        "labels = all_data['label'].values\n",
        "\n",
        "# Convert sequences to numpy array\n",
        "sequences = np.array(all_data['tweet'].tolist())\n",
        "\n",
        "# Split the data\n",
        "X_train, X_temp, y_train, y_temp = train_test_split(sequences, labels, test_size=0.2, random_state=42)\n",
        "X_val, X_test, y_val, y_test = train_test_split(X_temp, y_temp, test_size=0.5, random_state=42)"
      ],
      "metadata": {
        "id": "oXvvZyOrbhf1"
      },
      "execution_count": null,
      "outputs": []
    },
    {
      "cell_type": "markdown",
      "source": [
        "# Initiate dataset"
      ],
      "metadata": {
        "id": "pCtlUlj0QI-J"
      }
    },
    {
      "cell_type": "code",
      "source": [
        "from torch.utils.data import Dataset, DataLoader\n",
        "\n",
        "class TextDataset(Dataset):\n",
        "    def __init__(self, sequences, labels):\n",
        "        self.sequences = sequences\n",
        "        self.labels = labels\n",
        "\n",
        "    def __len__(self):\n",
        "        return len(self.sequences)\n",
        "\n",
        "    def __getitem__(self, idx):\n",
        "        return torch.tensor(self.sequences[idx], dtype=torch.long), torch.tensor(self.labels[idx], dtype=torch.long)\n",
        "\n",
        "# Create datasets\n",
        "train_dataset = TextDataset(X_train, y_train)\n",
        "val_dataset = TextDataset(X_val, y_val)\n",
        "test_dataset = TextDataset(X_test, y_test)\n",
        "\n",
        "# Create dataloaders\n",
        "train_loader = DataLoader(train_dataset, batch_size=32, shuffle=True)\n",
        "val_loader = DataLoader(val_dataset, batch_size=32, shuffle=False)\n",
        "test_loader = DataLoader(test_dataset, batch_size=32, shuffle=False)"
      ],
      "metadata": {
        "id": "uuJsO7O2cGKw"
      },
      "execution_count": null,
      "outputs": []
    },
    {
      "cell_type": "markdown",
      "source": [
        "# LSTM Model and training\n",
        "Need to change to adapt different embeddings"
      ],
      "metadata": {
        "id": "NJAbYp9KQO2l"
      }
    },
    {
      "cell_type": "code",
      "source": [
        "import torch\n",
        "import torch.nn as nn\n",
        "import torch.optim as optim\n",
        "import math\n",
        "import matplotlib.pyplot as plt\n",
        "from sklearn.metrics import confusion_matrix, ConfusionMatrixDisplay\n",
        "\n",
        "class LSTM_model(nn.Module):\n",
        "    def __init__(self, embedding_matrix, num_hid, num_out, batch_size=1, num_layers=1):\n",
        "        super().__init__()\n",
        "        self.num_hid = num_hid\n",
        "        self.batch_size = batch_size\n",
        "        self.num_layers = num_layers\n",
        "        self.embedding = nn.Embedding.from_pretrained(embedding_matrix, freeze=False)\n",
        "        self.lstm = nn.LSTM(embedding_matrix.shape[1], num_hid, num_layers, batch_first=True)\n",
        "        self.fc = nn.Linear(num_hid, num_out)\n",
        "        self.init_weights()\n",
        "\n",
        "    def init_weights(self):\n",
        "        stdv = 1.0 / math.sqrt(self.num_hid)\n",
        "        for weight in self.parameters():\n",
        "            if weight.dim() > 1:\n",
        "                nn.init.xavier_uniform_(weight)\n",
        "            else:\n",
        "                nn.init.uniform_(weight, -stdv, stdv)\n",
        "\n",
        "    def forward(self, x):\n",
        "        x = self.embedding(x)\n",
        "        h0 = torch.zeros(self.num_layers, x.size(0), self.num_hid).to(x.device)\n",
        "        c0 = torch.zeros(self.num_layers, x.size(0), self.num_hid).to(x.device)\n",
        "        out, _ = self.lstm(x, (h0, c0))\n",
        "        out = self.fc(out[:, -1, :])\n",
        "        return out\n",
        "\n",
        "# Model parameters\n",
        "num_hid = 128\n",
        "num_out = 3\n",
        "learning_rate = 0.001\n",
        "num_epochs = 10\n",
        "\n",
        "# Instantiate model, loss function, and optimizer\n",
        "model = LSTM_model(embedding_matrix, num_hid, num_out, num_layers=2)\n",
        "criterion = nn.CrossEntropyLoss()\n",
        "optimizer = optim.Adam(model.parameters(), lr=learning_rate)\n",
        "\n",
        "# Training loop with validation\n",
        "device = torch.device('cuda' if torch.cuda.is_available() else 'cpu')\n",
        "model.to(device)\n",
        "\n",
        "train_losses = []\n",
        "val_losses = []\n",
        "train_accuracies = []\n",
        "val_accuracies = []\n",
        "\n",
        "for epoch in range(num_epochs):\n",
        "    model.train()\n",
        "    train_loss = 0.0\n",
        "    correct_train = 0\n",
        "    total_train = 0\n",
        "    for sequences, labels in train_loader:\n",
        "        sequences, labels = sequences.to(device), labels.to(device)\n",
        "        outputs = model(sequences)\n",
        "        loss = criterion(outputs, labels)\n",
        "        optimizer.zero_grad()\n",
        "        loss.backward()\n",
        "        optimizer.step()\n",
        "        train_loss += loss.item()\n",
        "        _, predicted = torch.max(outputs.data, 1)\n",
        "        total_train += labels.size(0)\n",
        "        correct_train += (predicted == labels).sum().item()\n",
        "\n",
        "    train_losses.append(train_loss / len(train_loader))\n",
        "    train_accuracies.append(100 * correct_train / total_train)\n",
        "\n",
        "    val_loss = 0.0\n",
        "    correct_val = 0\n",
        "    total_val = 0\n",
        "    model.eval()\n",
        "    with torch.no_grad():\n",
        "        for sequences, labels in val_loader:\n",
        "            sequences, labels = sequences.to(device), labels.to(device)\n",
        "            outputs = model(sequences)\n",
        "            loss = criterion(outputs, labels)\n",
        "            val_loss += loss.item()\n",
        "            _, predicted = torch.max(outputs.data, 1)\n",
        "            total_val += labels.size(0)\n",
        "            correct_val += (predicted == labels).sum().item()\n",
        "\n",
        "    val_losses.append(val_loss / len(val_loader))\n",
        "    val_accuracies.append(100 * correct_val / total_val)\n",
        "\n",
        "    print(f'Epoch [{epoch+1}/{num_epochs}], Train Loss: {train_losses[-1]:.4f}, Val Loss: {val_losses[-1]:.4f}, '\n",
        "          f'Train Acc: {train_accuracies[-1]:.2f}, Val Acc: {val_accuracies[-1]:.2f}')\n",
        "\n",
        "print(\"Training complete\")\n"
      ],
      "metadata": {
        "colab": {
          "base_uri": "https://localhost:8080/"
        },
        "id": "ifxWRv2AcKv5",
        "outputId": "e4ddb420-e0b9-481f-8715-d11cfadd47f9"
      },
      "execution_count": null,
      "outputs": [
        {
          "output_type": "stream",
          "name": "stdout",
          "text": [
            "Epoch [1/10], Train Loss: 0.7110, Val Loss: 0.7244, Train Acc: 74.95, Val Acc: 74.27\n",
            "Epoch [2/10], Train Loss: 0.4320, Val Loss: 0.3191, Train Acc: 85.47, Val Acc: 89.12\n",
            "Epoch [3/10], Train Loss: 0.2425, Val Loss: 0.2362, Train Acc: 91.94, Val Acc: 92.39\n",
            "Epoch [4/10], Train Loss: 0.1484, Val Loss: 0.1853, Train Acc: 95.45, Val Acc: 94.59\n",
            "Epoch [5/10], Train Loss: 0.0939, Val Loss: 0.1826, Train Acc: 97.25, Val Acc: 95.04\n",
            "Epoch [6/10], Train Loss: 0.0630, Val Loss: 0.1646, Train Acc: 98.20, Val Acc: 95.43\n",
            "Epoch [7/10], Train Loss: 0.0434, Val Loss: 0.1628, Train Acc: 98.75, Val Acc: 96.15\n",
            "Epoch [8/10], Train Loss: 0.0317, Val Loss: 0.1674, Train Acc: 99.11, Val Acc: 96.37\n",
            "Epoch [9/10], Train Loss: 0.0228, Val Loss: 0.1698, Train Acc: 99.35, Val Acc: 96.66\n",
            "Epoch [10/10], Train Loss: 0.0174, Val Loss: 0.2030, Train Acc: 99.54, Val Acc: 96.65\n",
            "Training complete\n"
          ]
        }
      ]
    },
    {
      "cell_type": "markdown",
      "source": [
        "## Results Visualization"
      ],
      "metadata": {
        "id": "woVeOtnex--S"
      }
    },
    {
      "cell_type": "code",
      "source": [
        "\n",
        "# Plot training and validation loss\n",
        "plt.figure(figsize=(12, 6))\n",
        "plt.subplot(1, 2, 1)\n",
        "plt.plot(train_losses, label='Training Loss')\n",
        "plt.plot(val_losses, label='Validation Loss')\n",
        "plt.xlabel('Epochs')\n",
        "plt.ylabel('Loss')\n",
        "plt.legend()\n",
        "plt.title('Training and Validation Loss')\n",
        "\n",
        "# Plot training and validation accuracy\n",
        "plt.subplot(1, 2, 2)\n",
        "plt.plot(train_accuracies, label='Training Accuracy')\n",
        "plt.plot(val_accuracies, label='Validation Accuracy')\n",
        "plt.xlabel('Epochs')\n",
        "plt.ylabel('Accuracy (%)')\n",
        "plt.legend()\n",
        "plt.title('Training and Validation Accuracy')\n",
        "\n",
        "plt.tight_layout()\n",
        "plt.show()"
      ],
      "metadata": {
        "id": "z_galP9fdwB0",
        "colab": {
          "base_uri": "https://localhost:8080/",
          "height": 539
        },
        "outputId": "d75ffc6f-6780-4366-9a3c-abcafebd393f"
      },
      "execution_count": null,
      "outputs": [
        {
          "output_type": "display_data",
          "data": {
            "text/plain": [
              "<Figure size 1200x600 with 2 Axes>"
            ],
            "image/png": "[encoded data removed]"
          },
          "metadata": {}
        }
      ]
    },
    {
      "cell_type": "markdown",
      "source": [
        "## Evaluate Results of Test Set\n",
        "(include learning curves & confusion matrix)"
      ],
      "metadata": {
        "id": "iDGkApsM1qOC"
      }
    },
    {
      "cell_type": "code",
      "source": [
        "from sklearn.metrics import accuracy_score, precision_score, recall_score, f1_score, confusion_matrix, ConfusionMatrixDisplay\n",
        "\n",
        "# Make predictions\n",
        "model.eval()\n",
        "y_pred = []\n",
        "y_true = []\n",
        "\n",
        "with torch.no_grad():\n",
        "    for sequences, labels in test_loader:\n",
        "        sequences, labels = sequences.to(device), labels.to(device)\n",
        "        outputs = model(sequences)\n",
        "        _, predicted = torch.max(outputs.data, 1)\n",
        "        y_pred.extend(predicted.cpu().numpy())\n",
        "        y_true.extend(labels.cpu().numpy())\n",
        "\n",
        "# Calculate metrics\n",
        "accuracy = accuracy_score(y_true, y_pred)\n",
        "precision = precision_score(y_true, y_pred, average='weighted')\n",
        "recall = recall_score(y_true, y_pred, average='weighted')\n",
        "f1 = f1_score(y_true, y_pred, average='weighted')\n",
        "\n",
        "print(f'Accuracy: {accuracy:.4f}')\n",
        "print(f'Precision: {precision:.4f}')\n",
        "print(f'Recall: {recall:.4f}')\n",
        "print(f'F1 Score: {f1:.4f}')\n",
        "\n",
        "# Display confusion matrix\n",
        "cm = confusion_matrix(y_true, y_pred)\n",
        "disp = ConfusionMatrixDisplay(confusion_matrix=cm, display_labels=label_encoder.classes_)\n",
        "disp.plot(cmap=plt.cm.Blues)\n",
        "plt.title('Confusion Matrix')\n",
        "plt.show()"
      ],
      "metadata": {
        "colab": {
          "base_uri": "https://localhost:8080/",
          "height": 540
        },
        "id": "mDafeZlCJtrX",
        "outputId": "3df11b47-1640-4c98-e3f4-c19f97206473"
      },
      "execution_count": null,
      "outputs": [
        {
          "output_type": "stream",
          "name": "stdout",
          "text": [
            "Accuracy: 0.9668\n",
            "Precision: 0.9669\n",
            "Recall: 0.9668\n",
            "F1 Score: 0.9668\n"
          ]
        },
        {
          "output_type": "display_data",
          "data": {
            "text/plain": [
              "<Figure size 640x480 with 2 Axes>"
            ],
            "image/png": "[encoded data removed]"
          },
          "metadata": {}
        }
      ]
    },
    {
      "cell_type": "markdown",
      "source": [
        "## Analysis(Pros & Cons)"
      ],
      "metadata": {
        "id": "paLnw_hN2HUg"
      }
    },
    {
      "cell_type": "markdown",
      "source": [],
      "metadata": {
        "id": "sHM9Grau2Miv"
      }
    },
    {
      "cell_type": "markdown",
      "source": [
        "# Hyperparameter Tuning"
      ],
      "metadata": {
        "id": "3R7OdsrFQUJs"
      }
    },
    {
      "cell_type": "markdown",
      "source": [
        "## learning rate to 0.0015"
      ],
      "metadata": {
        "id": "n5YlJsNdQwcd"
      }
    },
    {
      "cell_type": "code",
      "source": [
        "# Model parameters\n",
        "num_hid = 128\n",
        "num_out = 3\n",
        "learning_rate = 0.0015\n",
        "num_epochs = 10\n",
        "\n",
        "# Instantiate model, loss function, and optimizer\n",
        "model = LSTM_model(embedding_matrix, num_hid, num_out, num_layers=2)\n",
        "criterion = nn.CrossEntropyLoss()\n",
        "optimizer = optim.Adam(model.parameters(), lr=learning_rate)\n",
        "\n",
        "# Training loop with validation\n",
        "device = torch.device('cuda' if torch.cuda.is_available() else 'cpu')\n",
        "model.to(device)\n",
        "\n",
        "train_losses = []\n",
        "val_losses = []\n",
        "train_accuracies = []\n",
        "val_accuracies = []\n",
        "\n",
        "for epoch in range(num_epochs):\n",
        "    model.train()\n",
        "    train_loss = 0.0\n",
        "    correct_train = 0\n",
        "    total_train = 0\n",
        "    for sequences, labels in train_loader:\n",
        "        sequences, labels = sequences.to(device), labels.to(device)\n",
        "        outputs = model(sequences)\n",
        "        loss = criterion(outputs, labels)\n",
        "        optimizer.zero_grad()\n",
        "        loss.backward()\n",
        "        optimizer.step()\n",
        "        train_loss += loss.item()\n",
        "        _, predicted = torch.max(outputs.data, 1)\n",
        "        total_train += labels.size(0)\n",
        "        correct_train += (predicted == labels).sum().item()\n",
        "\n",
        "    train_losses.append(train_loss / len(train_loader))\n",
        "    train_accuracies.append(100 * correct_train / total_train)\n",
        "\n",
        "    val_loss = 0.0\n",
        "    correct_val = 0\n",
        "    total_val = 0\n",
        "    model.eval()\n",
        "    with torch.no_grad():\n",
        "        for sequences, labels in val_loader:\n",
        "            sequences, labels = sequences.to(device), labels.to(device)\n",
        "            outputs = model(sequences)\n",
        "            loss = criterion(outputs, labels)\n",
        "            val_loss += loss.item()\n",
        "            _, predicted = torch.max(outputs.data, 1)\n",
        "            total_val += labels.size(0)\n",
        "            correct_val += (predicted == labels).sum().item()\n",
        "\n",
        "    val_losses.append(val_loss / len(val_loader))\n",
        "    val_accuracies.append(100 * correct_val / total_val)\n",
        "\n",
        "    print(f'Epoch [{epoch+1}/{num_epochs}], Train Loss: {train_losses[-1]:.4f}, Val Loss: {val_losses[-1]:.4f}, '\n",
        "          f'Train Acc: {train_accuracies[-1]:.2f}, Val Acc: {val_accuracies[-1]:.2f}')\n",
        "\n",
        "print(\"Training complete\")\n"
      ],
      "metadata": {
        "colab": {
          "base_uri": "https://localhost:8080/"
        },
        "id": "bJQ-_LFvLgcA",
        "outputId": "8b2c7f88-8949-4fcf-bb12-7fc669f3eec3"
      },
      "execution_count": null,
      "outputs": [
        {
          "output_type": "stream",
          "name": "stdout",
          "text": [
            "Epoch [1/10], Train Loss: 0.7118, Val Loss: 0.6363, Train Acc: 74.95, Val Acc: 73.86\n",
            "Epoch [2/10], Train Loss: 0.3244, Val Loss: 0.2378, Train Acc: 89.36, Val Acc: 92.67\n",
            "Epoch [3/10], Train Loss: 0.1589, Val Loss: 0.1768, Train Acc: 95.21, Val Acc: 94.87\n",
            "Epoch [4/10], Train Loss: 0.0870, Val Loss: 0.1613, Train Acc: 97.45, Val Acc: 95.61\n",
            "Epoch [5/10], Train Loss: 0.0515, Val Loss: 0.1538, Train Acc: 98.50, Val Acc: 96.25\n",
            "Epoch [6/10], Train Loss: 0.0317, Val Loss: 0.1636, Train Acc: 99.07, Val Acc: 96.63\n",
            "Epoch [7/10], Train Loss: 0.0209, Val Loss: 0.1579, Train Acc: 99.40, Val Acc: 96.82\n",
            "Epoch [8/10], Train Loss: 0.0154, Val Loss: 0.1840, Train Acc: 99.54, Val Acc: 96.99\n",
            "Epoch [9/10], Train Loss: 0.0115, Val Loss: 0.1714, Train Acc: 99.67, Val Acc: 97.07\n",
            "Epoch [10/10], Train Loss: 0.0099, Val Loss: 0.1770, Train Acc: 99.72, Val Acc: 97.03\n",
            "Training complete\n"
          ]
        }
      ]
    },
    {
      "cell_type": "code",
      "source": [
        "\n",
        "# Plot training and validation loss\n",
        "plt.figure(figsize=(12, 6))\n",
        "plt.subplot(1, 2, 1)\n",
        "plt.plot(train_losses, label='Training Loss')\n",
        "plt.plot(val_losses, label='Validation Loss')\n",
        "plt.xlabel('Epochs')\n",
        "plt.ylabel('Loss')\n",
        "plt.legend()\n",
        "plt.title('Training and Validation Loss')\n",
        "\n",
        "# Plot training and validation accuracy\n",
        "plt.subplot(1, 2, 2)\n",
        "plt.plot(train_accuracies, label='Training Accuracy')\n",
        "plt.plot(val_accuracies, label='Validation Accuracy')\n",
        "plt.xlabel('Epochs')\n",
        "plt.ylabel('Accuracy (%)')\n",
        "plt.legend()\n",
        "plt.title('Training and Validation Accuracy')\n",
        "\n",
        "plt.tight_layout()\n",
        "plt.show()"
      ],
      "metadata": {
        "colab": {
          "base_uri": "https://localhost:8080/",
          "height": 534
        },
        "id": "N_5p4FslQdqn",
        "outputId": "3181f05b-a62b-4834-a80e-7f6ad4c07818"
      },
      "execution_count": null,
      "outputs": [
        {
          "output_type": "display_data",
          "data": {
            "text/plain": [
              "<Figure size 1200x600 with 2 Axes>"
            ],
            "image/png": "[encoded data removed]"
          },
          "metadata": {}
        }
      ]
    },
    {
      "cell_type": "code",
      "source": [
        "from sklearn.metrics import accuracy_score, precision_score, recall_score, f1_score, confusion_matrix, ConfusionMatrixDisplay\n",
        "\n",
        "# Make predictions\n",
        "model.eval()\n",
        "y_pred = []\n",
        "y_true = []\n",
        "\n",
        "with torch.no_grad():\n",
        "    for sequences, labels in test_loader:\n",
        "        sequences, labels = sequences.to(device), labels.to(device)\n",
        "        outputs = model(sequences)\n",
        "        _, predicted = torch.max(outputs.data, 1)\n",
        "        y_pred.extend(predicted.cpu().numpy())\n",
        "        y_true.extend(labels.cpu().numpy())\n",
        "\n",
        "# Calculate metrics\n",
        "accuracy = accuracy_score(y_true, y_pred)\n",
        "precision = precision_score(y_true, y_pred, average='weighted')\n",
        "recall = recall_score(y_true, y_pred, average='weighted')\n",
        "f1 = f1_score(y_true, y_pred, average='weighted')\n",
        "\n",
        "print(f'Accuracy: {accuracy:.4f}')\n",
        "print(f'Precision: {precision:.4f}')\n",
        "print(f'Recall: {recall:.4f}')\n",
        "print(f'F1 Score: {f1:.4f}')\n",
        "\n",
        "# Display confusion matrix\n",
        "cm = confusion_matrix(y_true, y_pred)\n",
        "disp = ConfusionMatrixDisplay(confusion_matrix=cm, display_labels=label_encoder.classes_)\n",
        "disp.plot(cmap=plt.cm.Blues)\n",
        "plt.title('Confusion Matrix')\n",
        "plt.show()"
      ],
      "metadata": {
        "colab": {
          "base_uri": "https://localhost:8080/",
          "height": 540
        },
        "id": "PvxCJLkkSOio",
        "outputId": "7dfe9f11-9969-4685-915c-e84feceba1f5"
      },
      "execution_count": null,
      "outputs": [
        {
          "output_type": "stream",
          "name": "stdout",
          "text": [
            "Accuracy: 0.9708\n",
            "Precision: 0.9708\n",
            "Recall: 0.9708\n",
            "F1 Score: 0.9708\n"
          ]
        },
        {
          "output_type": "display_data",
          "data": {
            "text/plain": [
              "<Figure size 640x480 with 2 Axes>"
            ],
            "image/png": "[encoded data removed]"
          },
          "metadata": {}
        }
      ]
    },
    {
      "cell_type": "code",
      "source": [],
      "metadata": {
        "colab": {
          "base_uri": "https://localhost:8080/",
          "height": 401
        },
        "id": "QUorXKztSTGP",
        "outputId": "eb889c5c-31a7-46fb-95ca-d04e39c1b13e"
      },
      "execution_count": null,
      "outputs": [
        {
          "output_type": "stream",
          "name": "stdout",
          "text": [
            "Training with params: {'num_hid': 256, 'num_layers': 2, 'learning_rate': 0.0001, 'batch_size': 32}\n"
          ]
        },
        {
          "output_type": "error",
          "ename": "RuntimeError",
          "evalue": "Expected all tensors to be on the same device, but found at least two devices, cpu and cuda:0! (when checking argument for argument index in method wrapper_CUDA__index_select)",
          "traceback": [
            "\u001b[0;31m---------------------------------------------------------------------------\u001b[0m",
            "\u001b[0;31mRuntimeError\u001b[0m                              Traceback (most recent call last)",
            "\u001b[0;32m<ipython-input-45-cd3a4450037c>\u001b[0m in \u001b[0;36m<cell line: 13>\u001b[0;34m()\u001b[0m\n\u001b[1;32m     25\u001b[0m         \u001b[0;32mfor\u001b[0m \u001b[0msequences\u001b[0m\u001b[0;34m,\u001b[0m \u001b[0mlabels\u001b[0m \u001b[0;32min\u001b[0m \u001b[0mtrain_loader\u001b[0m\u001b[0;34m:\u001b[0m\u001b[0;34m\u001b[0m\u001b[0;34m\u001b[0m\u001b[0m\n\u001b[1;32m     26\u001b[0m             \u001b[0msequences\u001b[0m\u001b[0;34m,\u001b[0m \u001b[0mlabels\u001b[0m \u001b[0;34m=\u001b[0m \u001b[0msequences\u001b[0m\u001b[0;34m.\u001b[0m\u001b[0mto\u001b[0m\u001b[0;34m(\u001b[0m\u001b[0mdevice\u001b[0m\u001b[0;34m)\u001b[0m\u001b[0;34m,\u001b[0m \u001b[0mlabels\u001b[0m\u001b[0;34m.\u001b[0m\u001b[0mto\u001b[0m\u001b[0;34m(\u001b[0m\u001b[0mdevice\u001b[0m\u001b[0;34m)\u001b[0m\u001b[0;34m\u001b[0m\u001b[0;34m\u001b[0m\u001b[0m\n\u001b[0;32m---> 27\u001b[0;31m             \u001b[0moutputs\u001b[0m \u001b[0;34m=\u001b[0m \u001b[0mmodel\u001b[0m\u001b[0;34m(\u001b[0m\u001b[0msequences\u001b[0m\u001b[0;34m)\u001b[0m\u001b[0;34m\u001b[0m\u001b[0;34m\u001b[0m\u001b[0m\n\u001b[0m\u001b[1;32m     28\u001b[0m             \u001b[0mloss\u001b[0m \u001b[0;34m=\u001b[0m \u001b[0mcriterion\u001b[0m\u001b[0;34m(\u001b[0m\u001b[0moutputs\u001b[0m\u001b[0;34m,\u001b[0m \u001b[0mlabels\u001b[0m\u001b[0;34m)\u001b[0m\u001b[0;34m\u001b[0m\u001b[0;34m\u001b[0m\u001b[0m\n\u001b[1;32m     29\u001b[0m             \u001b[0moptimizer\u001b[0m\u001b[0;34m.\u001b[0m\u001b[0mzero_grad\u001b[0m\u001b[0;34m(\u001b[0m\u001b[0;34m)\u001b[0m\u001b[0;34m\u001b[0m\u001b[0;34m\u001b[0m\u001b[0m\n",
            "\u001b[0;32m/usr/local/lib/python3.10/dist-packages/torch/nn/modules/module.py\u001b[0m in \u001b[0;36m_wrapped_call_impl\u001b[0;34m(self, *args, **kwargs)\u001b[0m\n\u001b[1;32m   1509\u001b[0m             \u001b[0;32mreturn\u001b[0m \u001b[0mself\u001b[0m\u001b[0;34m.\u001b[0m\u001b[0m_compiled_call_impl\u001b[0m\u001b[0;34m(\u001b[0m\u001b[0;34m*\u001b[0m\u001b[0margs\u001b[0m\u001b[0;34m,\u001b[0m \u001b[0;34m**\u001b[0m\u001b[0mkwargs\u001b[0m\u001b[0;34m)\u001b[0m  \u001b[0;31m# type: ignore[misc]\u001b[0m\u001b[0;34m\u001b[0m\u001b[0;34m\u001b[0m\u001b[0m\n\u001b[1;32m   1510\u001b[0m         \u001b[0;32melse\u001b[0m\u001b[0;34m:\u001b[0m\u001b[0;34m\u001b[0m\u001b[0;34m\u001b[0m\u001b[0m\n\u001b[0;32m-> 1511\u001b[0;31m             \u001b[0;32mreturn\u001b[0m \u001b[0mself\u001b[0m\u001b[0;34m.\u001b[0m\u001b[0m_call_impl\u001b[0m\u001b[0;34m(\u001b[0m\u001b[0;34m*\u001b[0m\u001b[0margs\u001b[0m\u001b[0;34m,\u001b[0m \u001b[0;34m**\u001b[0m\u001b[0mkwargs\u001b[0m\u001b[0;34m)\u001b[0m\u001b[0;34m\u001b[0m\u001b[0;34m\u001b[0m\u001b[0m\n\u001b[0m\u001b[1;32m   1512\u001b[0m \u001b[0;34m\u001b[0m\u001b[0m\n\u001b[1;32m   1513\u001b[0m     \u001b[0;32mdef\u001b[0m \u001b[0m_call_impl\u001b[0m\u001b[0;34m(\u001b[0m\u001b[0mself\u001b[0m\u001b[0;34m,\u001b[0m \u001b[0;34m*\u001b[0m\u001b[0margs\u001b[0m\u001b[0;34m,\u001b[0m \u001b[0;34m**\u001b[0m\u001b[0mkwargs\u001b[0m\u001b[0;34m)\u001b[0m\u001b[0;34m:\u001b[0m\u001b[0;34m\u001b[0m\u001b[0;34m\u001b[0m\u001b[0m\n",
            "\u001b[0;32m/usr/local/lib/python3.10/dist-packages/torch/nn/modules/module.py\u001b[0m in \u001b[0;36m_call_impl\u001b[0;34m(self, *args, **kwargs)\u001b[0m\n\u001b[1;32m   1518\u001b[0m                 \u001b[0;32mor\u001b[0m \u001b[0m_global_backward_pre_hooks\u001b[0m \u001b[0;32mor\u001b[0m \u001b[0m_global_backward_hooks\u001b[0m\u001b[0;34m\u001b[0m\u001b[0;34m\u001b[0m\u001b[0m\n\u001b[1;32m   1519\u001b[0m                 or _global_forward_hooks or _global_forward_pre_hooks):\n\u001b[0;32m-> 1520\u001b[0;31m             \u001b[0;32mreturn\u001b[0m \u001b[0mforward_call\u001b[0m\u001b[0;34m(\u001b[0m\u001b[0;34m*\u001b[0m\u001b[0margs\u001b[0m\u001b[0;34m,\u001b[0m \u001b[0;34m**\u001b[0m\u001b[0mkwargs\u001b[0m\u001b[0;34m)\u001b[0m\u001b[0;34m\u001b[0m\u001b[0;34m\u001b[0m\u001b[0m\n\u001b[0m\u001b[1;32m   1521\u001b[0m \u001b[0;34m\u001b[0m\u001b[0m\n\u001b[1;32m   1522\u001b[0m         \u001b[0;32mtry\u001b[0m\u001b[0;34m:\u001b[0m\u001b[0;34m\u001b[0m\u001b[0;34m\u001b[0m\u001b[0m\n",
            "\u001b[0;32m<ipython-input-39-e7b1541cf5a6>\u001b[0m in \u001b[0;36mforward\u001b[0;34m(self, x)\u001b[0m\n\u001b[1;32m     26\u001b[0m \u001b[0;34m\u001b[0m\u001b[0m\n\u001b[1;32m     27\u001b[0m     \u001b[0;32mdef\u001b[0m \u001b[0mforward\u001b[0m\u001b[0;34m(\u001b[0m\u001b[0mself\u001b[0m\u001b[0;34m,\u001b[0m \u001b[0mx\u001b[0m\u001b[0;34m)\u001b[0m\u001b[0;34m:\u001b[0m\u001b[0;34m\u001b[0m\u001b[0;34m\u001b[0m\u001b[0m\n\u001b[0;32m---> 28\u001b[0;31m         \u001b[0mx\u001b[0m \u001b[0;34m=\u001b[0m \u001b[0mself\u001b[0m\u001b[0;34m.\u001b[0m\u001b[0membedding\u001b[0m\u001b[0;34m(\u001b[0m\u001b[0mx\u001b[0m\u001b[0;34m)\u001b[0m\u001b[0;34m\u001b[0m\u001b[0;34m\u001b[0m\u001b[0m\n\u001b[0m\u001b[1;32m     29\u001b[0m         \u001b[0mh0\u001b[0m \u001b[0;34m=\u001b[0m \u001b[0mtorch\u001b[0m\u001b[0;34m.\u001b[0m\u001b[0mzeros\u001b[0m\u001b[0;34m(\u001b[0m\u001b[0mself\u001b[0m\u001b[0;34m.\u001b[0m\u001b[0mnum_layers\u001b[0m\u001b[0;34m,\u001b[0m \u001b[0mx\u001b[0m\u001b[0;34m.\u001b[0m\u001b[0msize\u001b[0m\u001b[0;34m(\u001b[0m\u001b[0;36m0\u001b[0m\u001b[0;34m)\u001b[0m\u001b[0;34m,\u001b[0m \u001b[0mself\u001b[0m\u001b[0;34m.\u001b[0m\u001b[0mnum_hid\u001b[0m\u001b[0;34m)\u001b[0m\u001b[0;34m.\u001b[0m\u001b[0mto\u001b[0m\u001b[0;34m(\u001b[0m\u001b[0mx\u001b[0m\u001b[0;34m.\u001b[0m\u001b[0mdevice\u001b[0m\u001b[0;34m)\u001b[0m\u001b[0;34m\u001b[0m\u001b[0;34m\u001b[0m\u001b[0m\n\u001b[1;32m     30\u001b[0m         \u001b[0mc0\u001b[0m \u001b[0;34m=\u001b[0m \u001b[0mtorch\u001b[0m\u001b[0;34m.\u001b[0m\u001b[0mzeros\u001b[0m\u001b[0;34m(\u001b[0m\u001b[0mself\u001b[0m\u001b[0;34m.\u001b[0m\u001b[0mnum_layers\u001b[0m\u001b[0;34m,\u001b[0m \u001b[0mx\u001b[0m\u001b[0;34m.\u001b[0m\u001b[0msize\u001b[0m\u001b[0;34m(\u001b[0m\u001b[0;36m0\u001b[0m\u001b[0;34m)\u001b[0m\u001b[0;34m,\u001b[0m \u001b[0mself\u001b[0m\u001b[0;34m.\u001b[0m\u001b[0mnum_hid\u001b[0m\u001b[0;34m)\u001b[0m\u001b[0;34m.\u001b[0m\u001b[0mto\u001b[0m\u001b[0;34m(\u001b[0m\u001b[0mx\u001b[0m\u001b[0;34m.\u001b[0m\u001b[0mdevice\u001b[0m\u001b[0;34m)\u001b[0m\u001b[0;34m\u001b[0m\u001b[0;34m\u001b[0m\u001b[0m\n",
            "\u001b[0;32m/usr/local/lib/python3.10/dist-packages/torch/nn/modules/module.py\u001b[0m in \u001b[0;36m_wrapped_call_impl\u001b[0;34m(self, *args, **kwargs)\u001b[0m\n\u001b[1;32m   1509\u001b[0m             \u001b[0;32mreturn\u001b[0m \u001b[0mself\u001b[0m\u001b[0;34m.\u001b[0m\u001b[0m_compiled_call_impl\u001b[0m\u001b[0;34m(\u001b[0m\u001b[0;34m*\u001b[0m\u001b[0margs\u001b[0m\u001b[0;34m,\u001b[0m \u001b[0;34m**\u001b[0m\u001b[0mkwargs\u001b[0m\u001b[0;34m)\u001b[0m  \u001b[0;31m# type: ignore[misc]\u001b[0m\u001b[0;34m\u001b[0m\u001b[0;34m\u001b[0m\u001b[0m\n\u001b[1;32m   1510\u001b[0m         \u001b[0;32melse\u001b[0m\u001b[0;34m:\u001b[0m\u001b[0;34m\u001b[0m\u001b[0;34m\u001b[0m\u001b[0m\n\u001b[0;32m-> 1511\u001b[0;31m             \u001b[0;32mreturn\u001b[0m \u001b[0mself\u001b[0m\u001b[0;34m.\u001b[0m\u001b[0m_call_impl\u001b[0m\u001b[0;34m(\u001b[0m\u001b[0;34m*\u001b[0m\u001b[0margs\u001b[0m\u001b[0;34m,\u001b[0m \u001b[0;34m**\u001b[0m\u001b[0mkwargs\u001b[0m\u001b[0;34m)\u001b[0m\u001b[0;34m\u001b[0m\u001b[0;34m\u001b[0m\u001b[0m\n\u001b[0m\u001b[1;32m   1512\u001b[0m \u001b[0;34m\u001b[0m\u001b[0m\n\u001b[1;32m   1513\u001b[0m     \u001b[0;32mdef\u001b[0m \u001b[0m_call_impl\u001b[0m\u001b[0;34m(\u001b[0m\u001b[0mself\u001b[0m\u001b[0;34m,\u001b[0m \u001b[0;34m*\u001b[0m\u001b[0margs\u001b[0m\u001b[0;34m,\u001b[0m \u001b[0;34m**\u001b[0m\u001b[0mkwargs\u001b[0m\u001b[0;34m)\u001b[0m\u001b[0;34m:\u001b[0m\u001b[0;34m\u001b[0m\u001b[0;34m\u001b[0m\u001b[0m\n",
            "\u001b[0;32m/usr/local/lib/python3.10/dist-packages/torch/nn/modules/module.py\u001b[0m in \u001b[0;36m_call_impl\u001b[0;34m(self, *args, **kwargs)\u001b[0m\n\u001b[1;32m   1518\u001b[0m                 \u001b[0;32mor\u001b[0m \u001b[0m_global_backward_pre_hooks\u001b[0m \u001b[0;32mor\u001b[0m \u001b[0m_global_backward_hooks\u001b[0m\u001b[0;34m\u001b[0m\u001b[0;34m\u001b[0m\u001b[0m\n\u001b[1;32m   1519\u001b[0m                 or _global_forward_hooks or _global_forward_pre_hooks):\n\u001b[0;32m-> 1520\u001b[0;31m             \u001b[0;32mreturn\u001b[0m \u001b[0mforward_call\u001b[0m\u001b[0;34m(\u001b[0m\u001b[0;34m*\u001b[0m\u001b[0margs\u001b[0m\u001b[0;34m,\u001b[0m \u001b[0;34m**\u001b[0m\u001b[0mkwargs\u001b[0m\u001b[0;34m)\u001b[0m\u001b[0;34m\u001b[0m\u001b[0;34m\u001b[0m\u001b[0m\n\u001b[0m\u001b[1;32m   1521\u001b[0m \u001b[0;34m\u001b[0m\u001b[0m\n\u001b[1;32m   1522\u001b[0m         \u001b[0;32mtry\u001b[0m\u001b[0;34m:\u001b[0m\u001b[0;34m\u001b[0m\u001b[0;34m\u001b[0m\u001b[0m\n",
            "\u001b[0;32m/usr/local/lib/python3.10/dist-packages/torch/nn/modules/sparse.py\u001b[0m in \u001b[0;36mforward\u001b[0;34m(self, input)\u001b[0m\n\u001b[1;32m    161\u001b[0m \u001b[0;34m\u001b[0m\u001b[0m\n\u001b[1;32m    162\u001b[0m     \u001b[0;32mdef\u001b[0m \u001b[0mforward\u001b[0m\u001b[0;34m(\u001b[0m\u001b[0mself\u001b[0m\u001b[0;34m,\u001b[0m \u001b[0minput\u001b[0m\u001b[0;34m:\u001b[0m \u001b[0mTensor\u001b[0m\u001b[0;34m)\u001b[0m \u001b[0;34m->\u001b[0m \u001b[0mTensor\u001b[0m\u001b[0;34m:\u001b[0m\u001b[0;34m\u001b[0m\u001b[0;34m\u001b[0m\u001b[0m\n\u001b[0;32m--> 163\u001b[0;31m         return F.embedding(\n\u001b[0m\u001b[1;32m    164\u001b[0m             \u001b[0minput\u001b[0m\u001b[0;34m,\u001b[0m \u001b[0mself\u001b[0m\u001b[0;34m.\u001b[0m\u001b[0mweight\u001b[0m\u001b[0;34m,\u001b[0m \u001b[0mself\u001b[0m\u001b[0;34m.\u001b[0m\u001b[0mpadding_idx\u001b[0m\u001b[0;34m,\u001b[0m \u001b[0mself\u001b[0m\u001b[0;34m.\u001b[0m\u001b[0mmax_norm\u001b[0m\u001b[0;34m,\u001b[0m\u001b[0;34m\u001b[0m\u001b[0;34m\u001b[0m\u001b[0m\n\u001b[1;32m    165\u001b[0m             self.norm_type, self.scale_grad_by_freq, self.sparse)\n",
            "\u001b[0;32m/usr/local/lib/python3.10/dist-packages/torch/nn/functional.py\u001b[0m in \u001b[0;36membedding\u001b[0;34m(input, weight, padding_idx, max_norm, norm_type, scale_grad_by_freq, sparse)\u001b[0m\n\u001b[1;32m   2235\u001b[0m         \u001b[0;31m# remove once script supports set_grad_enabled\u001b[0m\u001b[0;34m\u001b[0m\u001b[0;34m\u001b[0m\u001b[0m\n\u001b[1;32m   2236\u001b[0m         \u001b[0m_no_grad_embedding_renorm_\u001b[0m\u001b[0;34m(\u001b[0m\u001b[0mweight\u001b[0m\u001b[0;34m,\u001b[0m \u001b[0minput\u001b[0m\u001b[0;34m,\u001b[0m \u001b[0mmax_norm\u001b[0m\u001b[0;34m,\u001b[0m \u001b[0mnorm_type\u001b[0m\u001b[0;34m)\u001b[0m\u001b[0;34m\u001b[0m\u001b[0;34m\u001b[0m\u001b[0m\n\u001b[0;32m-> 2237\u001b[0;31m     \u001b[0;32mreturn\u001b[0m \u001b[0mtorch\u001b[0m\u001b[0;34m.\u001b[0m\u001b[0membedding\u001b[0m\u001b[0;34m(\u001b[0m\u001b[0mweight\u001b[0m\u001b[0;34m,\u001b[0m \u001b[0minput\u001b[0m\u001b[0;34m,\u001b[0m \u001b[0mpadding_idx\u001b[0m\u001b[0;34m,\u001b[0m \u001b[0mscale_grad_by_freq\u001b[0m\u001b[0;34m,\u001b[0m \u001b[0msparse\u001b[0m\u001b[0;34m)\u001b[0m\u001b[0;34m\u001b[0m\u001b[0;34m\u001b[0m\u001b[0m\n\u001b[0m\u001b[1;32m   2238\u001b[0m \u001b[0;34m\u001b[0m\u001b[0m\n\u001b[1;32m   2239\u001b[0m \u001b[0;34m\u001b[0m\u001b[0m\n",
            "\u001b[0;31mRuntimeError\u001b[0m: Expected all tensors to be on the same device, but found at least two devices, cpu and cuda:0! (when checking argument for argument index in method wrapper_CUDA__index_select)"
          ]
        }
      ]
    },
    {
      "cell_type": "markdown",
      "source": [
        "## tuning the num_layer"
      ],
      "metadata": {
        "id": "b0zbBlEDxIvB"
      }
    },
    {
      "cell_type": "code",
      "source": [
        "# Model parameters\n",
        "num_hid = 128\n",
        "num_out = 3\n",
        "learning_rate = 0.0015\n",
        "num_epochs = 10\n",
        "\n",
        "# Instantiate model, loss function, and optimizer\n",
        "model = LSTM_model(embedding_matrix, num_hid, num_out, num_layers=2)\n",
        "criterion = nn.CrossEntropyLoss()\n",
        "optimizer = optim.Adam(model.parameters(), lr=learning_rate)\n",
        "\n",
        "# Training loop with validation\n",
        "device = torch.device('cuda' if torch.cuda.is_available() else 'cpu')\n",
        "model.to(device)\n",
        "\n",
        "train_losses = []\n",
        "val_losses = []\n",
        "train_accuracies = []\n",
        "val_accuracies = []\n",
        "\n",
        "for epoch in range(num_epochs):\n",
        "    model.train()\n",
        "    train_loss = 0.0\n",
        "    correct_train = 0\n",
        "    total_train = 0\n",
        "    for sequences, labels in train_loader:\n",
        "        sequences, labels = sequences.to(device), labels.to(device)\n",
        "        outputs = model(sequences)\n",
        "        loss = criterion(outputs, labels)\n",
        "        optimizer.zero_grad()\n",
        "        loss.backward()\n",
        "        optimizer.step()\n",
        "        train_loss += loss.item()\n",
        "        _, predicted = torch.max(outputs.data, 1)\n",
        "        total_train += labels.size(0)\n",
        "        correct_train += (predicted == labels).sum().item()\n",
        "\n",
        "    train_losses.append(train_loss / len(train_loader))\n",
        "    train_accuracies.append(100 * correct_train / total_train)\n",
        "\n",
        "    val_loss = 0.0\n",
        "    correct_val = 0\n",
        "    total_val = 0\n",
        "    model.eval()\n",
        "    with torch.no_grad():\n",
        "        for sequences, labels in val_loader:\n",
        "            sequences, labels = sequences.to(device), labels.to(device)\n",
        "            outputs = model(sequences)\n",
        "            loss = criterion(outputs, labels)\n",
        "            val_loss += loss.item()\n",
        "            _, predicted = torch.max(outputs.data, 1)\n",
        "            total_val += labels.size(0)\n",
        "            correct_val += (predicted == labels).sum().item()\n",
        "\n",
        "    val_losses.append(val_loss / len(val_loader))\n",
        "    val_accuracies.append(100 * correct_val / total_val)\n",
        "\n",
        "    print(f'Epoch [{epoch+1}/{num_epochs}], Train Loss: {train_losses[-1]:.4f}, Val Loss: {val_losses[-1]:.4f}, '\n",
        "          f'Train Acc: {train_accuracies[-1]:.2f}, Val Acc: {val_accuracies[-1]:.2f}')\n",
        "\n",
        "print(\"Training complete\")\n"
      ],
      "metadata": {
        "id": "6xldzmdlS1Am"
      },
      "execution_count": null,
      "outputs": []
    },
    {
      "cell_type": "markdown",
      "source": [
        "## Tuning the num_hid"
      ],
      "metadata": {
        "id": "ZpcFifjLxQou"
      }
    },
    {
      "cell_type": "code",
      "source": [],
      "metadata": {
        "id": "7qouwTBCxjUg"
      },
      "execution_count": null,
      "outputs": []
    },
    {
      "cell_type": "markdown",
      "source": [
        "## Tuning the batch_size"
      ],
      "metadata": {
        "id": "pAEWnJSSxRvX"
      }
    },
    {
      "cell_type": "code",
      "source": [],
      "metadata": {
        "id": "iuOZSJc7xeVk"
      },
      "execution_count": null,
      "outputs": []
    },
    {
      "cell_type": "markdown",
      "source": [
        "## Tuning the number of epoch"
      ],
      "metadata": {
        "id": "elBHUNCVxleI"
      }
    },
    {
      "cell_type": "code",
      "source": [],
      "metadata": {
        "id": "Jcm85vg_xpz4"
      },
      "execution_count": null,
      "outputs": []
    },
    {
      "cell_type": "markdown",
      "source": [
        "## Another Optimiser"
      ],
      "metadata": {
        "id": "tG-FTllm393m"
      }
    },
    {
      "cell_type": "markdown",
      "source": [],
      "metadata": {
        "id": "OmBIO--X4A8f"
      }
    },
    {
      "cell_type": "markdown",
      "source": [
        "# **My Tuning Summary/Analysis**\n",
        "(compare the fine-tuning and hyperparameters tuning)"
      ],
      "metadata": {
        "id": "ldFKruDcyn6W"
      }
    },
    {
      "cell_type": "code",
      "source": [],
      "metadata": {
        "id": "DA8Q-3x0y7by"
      },
      "execution_count": null,
      "outputs": []
    },
    {
      "cell_type": "markdown",
      "source": [
        "# **Compare Different Embeddings**"
      ],
      "metadata": {
        "id": "T717yFe_y1d2"
      }
    },
    {
      "cell_type": "markdown",
      "source": [
        "## Word2Vec embedding"
      ],
      "metadata": {
        "id": "phEfNXhhxswc"
      }
    },
    {
      "cell_type": "code",
      "source": [],
      "metadata": {
        "id": "dFXjOiEIx1hu"
      },
      "execution_count": null,
      "outputs": []
    },
    {
      "cell_type": "markdown",
      "source": [
        "## FastText Embedding"
      ],
      "metadata": {
        "id": "c1nRF2jYx2Y5"
      }
    },
    {
      "cell_type": "code",
      "source": [],
      "metadata": {
        "id": "4ClNoBw2x47c"
      },
      "execution_count": null,
      "outputs": []
    },
    {
      "cell_type": "markdown",
      "source": [
        "## Comparison Summary"
      ],
      "metadata": {
        "id": "SSy8wdGEy_XO"
      }
    },
    {
      "cell_type": "code",
      "source": [],
      "metadata": {
        "id": "fsWBAeUjzBjS"
      },
      "execution_count": null,
      "outputs": []
    },
    {
      "cell_type": "markdown",
      "source": [
        "## Implementing in different dataset(for simple model, should have good performance yet.)\n",
        "if time permitted."
      ],
      "metadata": {
        "id": "2owHfxgb2l9O"
      }
    },
    {
      "cell_type": "code",
      "source": [],
      "metadata": {
        "id": "9Y5_yNRP2wm-"
      },
      "execution_count": null,
      "outputs": []
    }
  ]
}